{
 "cells": [
  {
   "cell_type": "markdown",
   "metadata": {},
   "source": [
    "# Lending Club Case Study - Exploratory Data Analysis"
   ]
  },
  {
   "cell_type": "markdown",
   "metadata": {},
   "source": [
    "##### Group Members: \n",
    "1. Avinash Rai\n",
    "2. Krishna Bandi"
   ]
  },
  {
   "cell_type": "markdown",
   "metadata": {},
   "source": [
    "# Importing all the required libraries"
   ]
  },
  {
   "cell_type": "code",
   "execution_count": 3,
   "metadata": {},
   "outputs": [],
   "source": [
    "import numpy as np\n",
    "import pandas as pd\n",
    "import matplotlib.pyplot as plt\n",
    "from matplotlib import style\n",
    "import seaborn as sns\n",
    "#style.use('fivethirtyeight')\n",
    "sns.set(style='whitegrid')\n",
    "#sns.set(style='fivethirtyeight')"
   ]
  },
  {
   "cell_type": "markdown",
   "metadata": {},
   "source": [
    "Reading loan Data"
   ]
  },
  {
   "cell_type": "code",
   "execution_count": 4,
   "metadata": {},
   "outputs": [
    {
     "data": {
      "text/html": [
       "<div>\n",
       "<style scoped>\n",
       "    .dataframe tbody tr th:only-of-type {\n",
       "        vertical-align: middle;\n",
       "    }\n",
       "\n",
       "    .dataframe tbody tr th {\n",
       "        vertical-align: top;\n",
       "    }\n",
       "\n",
       "    .dataframe thead th {\n",
       "        text-align: right;\n",
       "    }\n",
       "</style>\n",
       "<table border=\"1\" class=\"dataframe\">\n",
       "  <thead>\n",
       "    <tr style=\"text-align: right;\">\n",
       "      <th></th>\n",
       "      <th>id</th>\n",
       "      <th>member_id</th>\n",
       "      <th>loan_amnt</th>\n",
       "      <th>funded_amnt</th>\n",
       "      <th>funded_amnt_inv</th>\n",
       "      <th>term</th>\n",
       "      <th>int_rate</th>\n",
       "      <th>installment</th>\n",
       "      <th>grade</th>\n",
       "      <th>sub_grade</th>\n",
       "      <th>...</th>\n",
       "      <th>num_tl_90g_dpd_24m</th>\n",
       "      <th>num_tl_op_past_12m</th>\n",
       "      <th>pct_tl_nvr_dlq</th>\n",
       "      <th>percent_bc_gt_75</th>\n",
       "      <th>pub_rec_bankruptcies</th>\n",
       "      <th>tax_liens</th>\n",
       "      <th>tot_hi_cred_lim</th>\n",
       "      <th>total_bal_ex_mort</th>\n",
       "      <th>total_bc_limit</th>\n",
       "      <th>total_il_high_credit_limit</th>\n",
       "    </tr>\n",
       "  </thead>\n",
       "  <tbody>\n",
       "    <tr>\n",
       "      <th>0</th>\n",
       "      <td>1077501</td>\n",
       "      <td>1296599</td>\n",
       "      <td>5000</td>\n",
       "      <td>5000</td>\n",
       "      <td>4975.0</td>\n",
       "      <td>36 months</td>\n",
       "      <td>10.65%</td>\n",
       "      <td>162.87</td>\n",
       "      <td>B</td>\n",
       "      <td>B2</td>\n",
       "      <td>...</td>\n",
       "      <td>NaN</td>\n",
       "      <td>NaN</td>\n",
       "      <td>NaN</td>\n",
       "      <td>NaN</td>\n",
       "      <td>0.0</td>\n",
       "      <td>0.0</td>\n",
       "      <td>NaN</td>\n",
       "      <td>NaN</td>\n",
       "      <td>NaN</td>\n",
       "      <td>NaN</td>\n",
       "    </tr>\n",
       "    <tr>\n",
       "      <th>1</th>\n",
       "      <td>1077430</td>\n",
       "      <td>1314167</td>\n",
       "      <td>2500</td>\n",
       "      <td>2500</td>\n",
       "      <td>2500.0</td>\n",
       "      <td>60 months</td>\n",
       "      <td>15.27%</td>\n",
       "      <td>59.83</td>\n",
       "      <td>C</td>\n",
       "      <td>C4</td>\n",
       "      <td>...</td>\n",
       "      <td>NaN</td>\n",
       "      <td>NaN</td>\n",
       "      <td>NaN</td>\n",
       "      <td>NaN</td>\n",
       "      <td>0.0</td>\n",
       "      <td>0.0</td>\n",
       "      <td>NaN</td>\n",
       "      <td>NaN</td>\n",
       "      <td>NaN</td>\n",
       "      <td>NaN</td>\n",
       "    </tr>\n",
       "    <tr>\n",
       "      <th>2</th>\n",
       "      <td>1077175</td>\n",
       "      <td>1313524</td>\n",
       "      <td>2400</td>\n",
       "      <td>2400</td>\n",
       "      <td>2400.0</td>\n",
       "      <td>36 months</td>\n",
       "      <td>15.96%</td>\n",
       "      <td>84.33</td>\n",
       "      <td>C</td>\n",
       "      <td>C5</td>\n",
       "      <td>...</td>\n",
       "      <td>NaN</td>\n",
       "      <td>NaN</td>\n",
       "      <td>NaN</td>\n",
       "      <td>NaN</td>\n",
       "      <td>0.0</td>\n",
       "      <td>0.0</td>\n",
       "      <td>NaN</td>\n",
       "      <td>NaN</td>\n",
       "      <td>NaN</td>\n",
       "      <td>NaN</td>\n",
       "    </tr>\n",
       "    <tr>\n",
       "      <th>3</th>\n",
       "      <td>1076863</td>\n",
       "      <td>1277178</td>\n",
       "      <td>10000</td>\n",
       "      <td>10000</td>\n",
       "      <td>10000.0</td>\n",
       "      <td>36 months</td>\n",
       "      <td>13.49%</td>\n",
       "      <td>339.31</td>\n",
       "      <td>C</td>\n",
       "      <td>C1</td>\n",
       "      <td>...</td>\n",
       "      <td>NaN</td>\n",
       "      <td>NaN</td>\n",
       "      <td>NaN</td>\n",
       "      <td>NaN</td>\n",
       "      <td>0.0</td>\n",
       "      <td>0.0</td>\n",
       "      <td>NaN</td>\n",
       "      <td>NaN</td>\n",
       "      <td>NaN</td>\n",
       "      <td>NaN</td>\n",
       "    </tr>\n",
       "    <tr>\n",
       "      <th>4</th>\n",
       "      <td>1075358</td>\n",
       "      <td>1311748</td>\n",
       "      <td>3000</td>\n",
       "      <td>3000</td>\n",
       "      <td>3000.0</td>\n",
       "      <td>60 months</td>\n",
       "      <td>12.69%</td>\n",
       "      <td>67.79</td>\n",
       "      <td>B</td>\n",
       "      <td>B5</td>\n",
       "      <td>...</td>\n",
       "      <td>NaN</td>\n",
       "      <td>NaN</td>\n",
       "      <td>NaN</td>\n",
       "      <td>NaN</td>\n",
       "      <td>0.0</td>\n",
       "      <td>0.0</td>\n",
       "      <td>NaN</td>\n",
       "      <td>NaN</td>\n",
       "      <td>NaN</td>\n",
       "      <td>NaN</td>\n",
       "    </tr>\n",
       "  </tbody>\n",
       "</table>\n",
       "<p>5 rows × 111 columns</p>\n",
       "</div>"
      ],
      "text/plain": [
       "        id  member_id  loan_amnt  funded_amnt  funded_amnt_inv        term  \\\n",
       "0  1077501    1296599       5000         5000           4975.0   36 months   \n",
       "1  1077430    1314167       2500         2500           2500.0   60 months   \n",
       "2  1077175    1313524       2400         2400           2400.0   36 months   \n",
       "3  1076863    1277178      10000        10000          10000.0   36 months   \n",
       "4  1075358    1311748       3000         3000           3000.0   60 months   \n",
       "\n",
       "  int_rate  installment grade sub_grade  ... num_tl_90g_dpd_24m  \\\n",
       "0   10.65%       162.87     B        B2  ...                NaN   \n",
       "1   15.27%        59.83     C        C4  ...                NaN   \n",
       "2   15.96%        84.33     C        C5  ...                NaN   \n",
       "3   13.49%       339.31     C        C1  ...                NaN   \n",
       "4   12.69%        67.79     B        B5  ...                NaN   \n",
       "\n",
       "  num_tl_op_past_12m pct_tl_nvr_dlq  percent_bc_gt_75 pub_rec_bankruptcies  \\\n",
       "0                NaN            NaN               NaN                  0.0   \n",
       "1                NaN            NaN               NaN                  0.0   \n",
       "2                NaN            NaN               NaN                  0.0   \n",
       "3                NaN            NaN               NaN                  0.0   \n",
       "4                NaN            NaN               NaN                  0.0   \n",
       "\n",
       "  tax_liens tot_hi_cred_lim total_bal_ex_mort total_bc_limit  \\\n",
       "0       0.0             NaN               NaN            NaN   \n",
       "1       0.0             NaN               NaN            NaN   \n",
       "2       0.0             NaN               NaN            NaN   \n",
       "3       0.0             NaN               NaN            NaN   \n",
       "4       0.0             NaN               NaN            NaN   \n",
       "\n",
       "  total_il_high_credit_limit  \n",
       "0                        NaN  \n",
       "1                        NaN  \n",
       "2                        NaN  \n",
       "3                        NaN  \n",
       "4                        NaN  \n",
       "\n",
       "[5 rows x 111 columns]"
      ]
     },
     "execution_count": 4,
     "metadata": {},
     "output_type": "execute_result"
    }
   ],
   "source": [
    "loan=pd.read_csv(r'C:\\Users\\avina\\Downloads\\loan\\loan.csv',low_memory=False)\n",
    "loan.head()"
   ]
  },
  {
   "cell_type": "code",
   "execution_count": 5,
   "metadata": {},
   "outputs": [
    {
     "data": {
      "text/plain": [
       "(39717, 111)"
      ]
     },
     "execution_count": 5,
     "metadata": {},
     "output_type": "execute_result"
    }
   ],
   "source": [
    "loan.shape"
   ]
  },
  {
   "cell_type": "code",
   "execution_count": 6,
   "metadata": {},
   "outputs": [
    {
     "data": {
      "text/html": [
       "<div>\n",
       "<style scoped>\n",
       "    .dataframe tbody tr th:only-of-type {\n",
       "        vertical-align: middle;\n",
       "    }\n",
       "\n",
       "    .dataframe tbody tr th {\n",
       "        vertical-align: top;\n",
       "    }\n",
       "\n",
       "    .dataframe thead th {\n",
       "        text-align: right;\n",
       "    }\n",
       "</style>\n",
       "<table border=\"1\" class=\"dataframe\">\n",
       "  <thead>\n",
       "    <tr style=\"text-align: right;\">\n",
       "      <th></th>\n",
       "      <th>id</th>\n",
       "      <th>member_id</th>\n",
       "      <th>loan_amnt</th>\n",
       "      <th>funded_amnt</th>\n",
       "      <th>funded_amnt_inv</th>\n",
       "      <th>installment</th>\n",
       "      <th>annual_inc</th>\n",
       "      <th>dti</th>\n",
       "      <th>delinq_2yrs</th>\n",
       "      <th>inq_last_6mths</th>\n",
       "      <th>...</th>\n",
       "      <th>num_tl_90g_dpd_24m</th>\n",
       "      <th>num_tl_op_past_12m</th>\n",
       "      <th>pct_tl_nvr_dlq</th>\n",
       "      <th>percent_bc_gt_75</th>\n",
       "      <th>pub_rec_bankruptcies</th>\n",
       "      <th>tax_liens</th>\n",
       "      <th>tot_hi_cred_lim</th>\n",
       "      <th>total_bal_ex_mort</th>\n",
       "      <th>total_bc_limit</th>\n",
       "      <th>total_il_high_credit_limit</th>\n",
       "    </tr>\n",
       "  </thead>\n",
       "  <tbody>\n",
       "    <tr>\n",
       "      <th>count</th>\n",
       "      <td>3.971700e+04</td>\n",
       "      <td>3.971700e+04</td>\n",
       "      <td>39717.000000</td>\n",
       "      <td>39717.000000</td>\n",
       "      <td>39717.000000</td>\n",
       "      <td>39717.000000</td>\n",
       "      <td>3.971700e+04</td>\n",
       "      <td>39717.000000</td>\n",
       "      <td>39717.000000</td>\n",
       "      <td>39717.000000</td>\n",
       "      <td>...</td>\n",
       "      <td>0.0</td>\n",
       "      <td>0.0</td>\n",
       "      <td>0.0</td>\n",
       "      <td>0.0</td>\n",
       "      <td>39020.000000</td>\n",
       "      <td>39678.0</td>\n",
       "      <td>0.0</td>\n",
       "      <td>0.0</td>\n",
       "      <td>0.0</td>\n",
       "      <td>0.0</td>\n",
       "    </tr>\n",
       "    <tr>\n",
       "      <th>mean</th>\n",
       "      <td>6.831319e+05</td>\n",
       "      <td>8.504636e+05</td>\n",
       "      <td>11219.443815</td>\n",
       "      <td>10947.713196</td>\n",
       "      <td>10397.448868</td>\n",
       "      <td>324.561922</td>\n",
       "      <td>6.896893e+04</td>\n",
       "      <td>13.315130</td>\n",
       "      <td>0.146512</td>\n",
       "      <td>0.869200</td>\n",
       "      <td>...</td>\n",
       "      <td>NaN</td>\n",
       "      <td>NaN</td>\n",
       "      <td>NaN</td>\n",
       "      <td>NaN</td>\n",
       "      <td>0.043260</td>\n",
       "      <td>0.0</td>\n",
       "      <td>NaN</td>\n",
       "      <td>NaN</td>\n",
       "      <td>NaN</td>\n",
       "      <td>NaN</td>\n",
       "    </tr>\n",
       "    <tr>\n",
       "      <th>std</th>\n",
       "      <td>2.106941e+05</td>\n",
       "      <td>2.656783e+05</td>\n",
       "      <td>7456.670694</td>\n",
       "      <td>7187.238670</td>\n",
       "      <td>7128.450439</td>\n",
       "      <td>208.874874</td>\n",
       "      <td>6.379377e+04</td>\n",
       "      <td>6.678594</td>\n",
       "      <td>0.491812</td>\n",
       "      <td>1.070219</td>\n",
       "      <td>...</td>\n",
       "      <td>NaN</td>\n",
       "      <td>NaN</td>\n",
       "      <td>NaN</td>\n",
       "      <td>NaN</td>\n",
       "      <td>0.204324</td>\n",
       "      <td>0.0</td>\n",
       "      <td>NaN</td>\n",
       "      <td>NaN</td>\n",
       "      <td>NaN</td>\n",
       "      <td>NaN</td>\n",
       "    </tr>\n",
       "    <tr>\n",
       "      <th>min</th>\n",
       "      <td>5.473400e+04</td>\n",
       "      <td>7.069900e+04</td>\n",
       "      <td>500.000000</td>\n",
       "      <td>500.000000</td>\n",
       "      <td>0.000000</td>\n",
       "      <td>15.690000</td>\n",
       "      <td>4.000000e+03</td>\n",
       "      <td>0.000000</td>\n",
       "      <td>0.000000</td>\n",
       "      <td>0.000000</td>\n",
       "      <td>...</td>\n",
       "      <td>NaN</td>\n",
       "      <td>NaN</td>\n",
       "      <td>NaN</td>\n",
       "      <td>NaN</td>\n",
       "      <td>0.000000</td>\n",
       "      <td>0.0</td>\n",
       "      <td>NaN</td>\n",
       "      <td>NaN</td>\n",
       "      <td>NaN</td>\n",
       "      <td>NaN</td>\n",
       "    </tr>\n",
       "    <tr>\n",
       "      <th>25%</th>\n",
       "      <td>5.162210e+05</td>\n",
       "      <td>6.667800e+05</td>\n",
       "      <td>5500.000000</td>\n",
       "      <td>5400.000000</td>\n",
       "      <td>5000.000000</td>\n",
       "      <td>167.020000</td>\n",
       "      <td>4.040400e+04</td>\n",
       "      <td>8.170000</td>\n",
       "      <td>0.000000</td>\n",
       "      <td>0.000000</td>\n",
       "      <td>...</td>\n",
       "      <td>NaN</td>\n",
       "      <td>NaN</td>\n",
       "      <td>NaN</td>\n",
       "      <td>NaN</td>\n",
       "      <td>0.000000</td>\n",
       "      <td>0.0</td>\n",
       "      <td>NaN</td>\n",
       "      <td>NaN</td>\n",
       "      <td>NaN</td>\n",
       "      <td>NaN</td>\n",
       "    </tr>\n",
       "    <tr>\n",
       "      <th>50%</th>\n",
       "      <td>6.656650e+05</td>\n",
       "      <td>8.508120e+05</td>\n",
       "      <td>10000.000000</td>\n",
       "      <td>9600.000000</td>\n",
       "      <td>8975.000000</td>\n",
       "      <td>280.220000</td>\n",
       "      <td>5.900000e+04</td>\n",
       "      <td>13.400000</td>\n",
       "      <td>0.000000</td>\n",
       "      <td>1.000000</td>\n",
       "      <td>...</td>\n",
       "      <td>NaN</td>\n",
       "      <td>NaN</td>\n",
       "      <td>NaN</td>\n",
       "      <td>NaN</td>\n",
       "      <td>0.000000</td>\n",
       "      <td>0.0</td>\n",
       "      <td>NaN</td>\n",
       "      <td>NaN</td>\n",
       "      <td>NaN</td>\n",
       "      <td>NaN</td>\n",
       "    </tr>\n",
       "    <tr>\n",
       "      <th>75%</th>\n",
       "      <td>8.377550e+05</td>\n",
       "      <td>1.047339e+06</td>\n",
       "      <td>15000.000000</td>\n",
       "      <td>15000.000000</td>\n",
       "      <td>14400.000000</td>\n",
       "      <td>430.780000</td>\n",
       "      <td>8.230000e+04</td>\n",
       "      <td>18.600000</td>\n",
       "      <td>0.000000</td>\n",
       "      <td>1.000000</td>\n",
       "      <td>...</td>\n",
       "      <td>NaN</td>\n",
       "      <td>NaN</td>\n",
       "      <td>NaN</td>\n",
       "      <td>NaN</td>\n",
       "      <td>0.000000</td>\n",
       "      <td>0.0</td>\n",
       "      <td>NaN</td>\n",
       "      <td>NaN</td>\n",
       "      <td>NaN</td>\n",
       "      <td>NaN</td>\n",
       "    </tr>\n",
       "    <tr>\n",
       "      <th>max</th>\n",
       "      <td>1.077501e+06</td>\n",
       "      <td>1.314167e+06</td>\n",
       "      <td>35000.000000</td>\n",
       "      <td>35000.000000</td>\n",
       "      <td>35000.000000</td>\n",
       "      <td>1305.190000</td>\n",
       "      <td>6.000000e+06</td>\n",
       "      <td>29.990000</td>\n",
       "      <td>11.000000</td>\n",
       "      <td>8.000000</td>\n",
       "      <td>...</td>\n",
       "      <td>NaN</td>\n",
       "      <td>NaN</td>\n",
       "      <td>NaN</td>\n",
       "      <td>NaN</td>\n",
       "      <td>2.000000</td>\n",
       "      <td>0.0</td>\n",
       "      <td>NaN</td>\n",
       "      <td>NaN</td>\n",
       "      <td>NaN</td>\n",
       "      <td>NaN</td>\n",
       "    </tr>\n",
       "  </tbody>\n",
       "</table>\n",
       "<p>8 rows × 87 columns</p>\n",
       "</div>"
      ],
      "text/plain": [
       "                 id     member_id     loan_amnt   funded_amnt  \\\n",
       "count  3.971700e+04  3.971700e+04  39717.000000  39717.000000   \n",
       "mean   6.831319e+05  8.504636e+05  11219.443815  10947.713196   \n",
       "std    2.106941e+05  2.656783e+05   7456.670694   7187.238670   \n",
       "min    5.473400e+04  7.069900e+04    500.000000    500.000000   \n",
       "25%    5.162210e+05  6.667800e+05   5500.000000   5400.000000   \n",
       "50%    6.656650e+05  8.508120e+05  10000.000000   9600.000000   \n",
       "75%    8.377550e+05  1.047339e+06  15000.000000  15000.000000   \n",
       "max    1.077501e+06  1.314167e+06  35000.000000  35000.000000   \n",
       "\n",
       "       funded_amnt_inv   installment    annual_inc           dti  \\\n",
       "count     39717.000000  39717.000000  3.971700e+04  39717.000000   \n",
       "mean      10397.448868    324.561922  6.896893e+04     13.315130   \n",
       "std        7128.450439    208.874874  6.379377e+04      6.678594   \n",
       "min           0.000000     15.690000  4.000000e+03      0.000000   \n",
       "25%        5000.000000    167.020000  4.040400e+04      8.170000   \n",
       "50%        8975.000000    280.220000  5.900000e+04     13.400000   \n",
       "75%       14400.000000    430.780000  8.230000e+04     18.600000   \n",
       "max       35000.000000   1305.190000  6.000000e+06     29.990000   \n",
       "\n",
       "        delinq_2yrs  inq_last_6mths  ...  num_tl_90g_dpd_24m  \\\n",
       "count  39717.000000    39717.000000  ...                 0.0   \n",
       "mean       0.146512        0.869200  ...                 NaN   \n",
       "std        0.491812        1.070219  ...                 NaN   \n",
       "min        0.000000        0.000000  ...                 NaN   \n",
       "25%        0.000000        0.000000  ...                 NaN   \n",
       "50%        0.000000        1.000000  ...                 NaN   \n",
       "75%        0.000000        1.000000  ...                 NaN   \n",
       "max       11.000000        8.000000  ...                 NaN   \n",
       "\n",
       "       num_tl_op_past_12m  pct_tl_nvr_dlq  percent_bc_gt_75  \\\n",
       "count                 0.0             0.0               0.0   \n",
       "mean                  NaN             NaN               NaN   \n",
       "std                   NaN             NaN               NaN   \n",
       "min                   NaN             NaN               NaN   \n",
       "25%                   NaN             NaN               NaN   \n",
       "50%                   NaN             NaN               NaN   \n",
       "75%                   NaN             NaN               NaN   \n",
       "max                   NaN             NaN               NaN   \n",
       "\n",
       "       pub_rec_bankruptcies  tax_liens  tot_hi_cred_lim  total_bal_ex_mort  \\\n",
       "count          39020.000000    39678.0              0.0                0.0   \n",
       "mean               0.043260        0.0              NaN                NaN   \n",
       "std                0.204324        0.0              NaN                NaN   \n",
       "min                0.000000        0.0              NaN                NaN   \n",
       "25%                0.000000        0.0              NaN                NaN   \n",
       "50%                0.000000        0.0              NaN                NaN   \n",
       "75%                0.000000        0.0              NaN                NaN   \n",
       "max                2.000000        0.0              NaN                NaN   \n",
       "\n",
       "       total_bc_limit  total_il_high_credit_limit  \n",
       "count             0.0                         0.0  \n",
       "mean              NaN                         NaN  \n",
       "std               NaN                         NaN  \n",
       "min               NaN                         NaN  \n",
       "25%               NaN                         NaN  \n",
       "50%               NaN                         NaN  \n",
       "75%               NaN                         NaN  \n",
       "max               NaN                         NaN  \n",
       "\n",
       "[8 rows x 87 columns]"
      ]
     },
     "execution_count": 6,
     "metadata": {},
     "output_type": "execute_result"
    }
   ],
   "source": [
    "loan.describe()"
   ]
  },
  {
   "cell_type": "markdown",
   "metadata": {},
   "source": [
    "# Data Cleaning"
   ]
  },
  {
   "cell_type": "markdown",
   "metadata": {},
   "source": [
    "Find out the percentage of missing values in each column in the given dataset"
   ]
  },
  {
   "cell_type": "code",
   "execution_count": 11,
   "metadata": {},
   "outputs": [
    {
     "data": {
      "text/plain": [
       "emp_title                       6.19\n",
       "emp_length                      2.71\n",
       "desc                           32.58\n",
       "title                           0.03\n",
       "mths_since_last_delinq         64.66\n",
       "                               ...  \n",
       "tax_liens                       0.10\n",
       "tot_hi_cred_lim               100.00\n",
       "total_bal_ex_mort             100.00\n",
       "total_bc_limit                100.00\n",
       "total_il_high_credit_limit    100.00\n",
       "Length: 68, dtype: float64"
      ]
     },
     "execution_count": 11,
     "metadata": {},
     "output_type": "execute_result"
    }
   ],
   "source": [
    "missing = round(100*(loan.isnull().sum()/len(loan.id)), 2)\n",
    "missing.loc[missing > 0]"
   ]
  },
  {
   "cell_type": "markdown",
   "metadata": {},
   "source": [
    "There are many columns in the data with 100% missing values. Let's remove all the columns with more than 50% missing values"
   ]
  },
  {
   "cell_type": "code",
   "execution_count": 12,
   "metadata": {},
   "outputs": [
    {
     "data": {
      "text/plain": [
       "57"
      ]
     },
     "execution_count": 12,
     "metadata": {},
     "output_type": "execute_result"
    }
   ],
   "source": [
    "missing_values = list(missing[missing >= 50].index)\n",
    "len(missing_values)"
   ]
  },
  {
   "cell_type": "code",
   "execution_count": 13,
   "metadata": {},
   "outputs": [
    {
     "data": {
      "text/plain": [
       "(39717, 54)"
      ]
     },
     "execution_count": 13,
     "metadata": {},
     "output_type": "execute_result"
    }
   ],
   "source": [
    "loan = loan.drop(missing_values,axis=1)\n",
    "loan.shape"
   ]
  },
  {
   "cell_type": "markdown",
   "metadata": {},
   "source": [
    "!!!!!Let's examin further for missing values."
   ]
  },
  {
   "cell_type": "code",
   "execution_count": 14,
   "metadata": {},
   "outputs": [
    {
     "data": {
      "text/plain": [
       "emp_title                      6.19\n",
       "emp_length                     2.71\n",
       "desc                          32.58\n",
       "title                          0.03\n",
       "revol_util                     0.13\n",
       "last_pymnt_d                   0.18\n",
       "last_credit_pull_d             0.01\n",
       "collections_12_mths_ex_med     0.14\n",
       "chargeoff_within_12_mths       0.14\n",
       "pub_rec_bankruptcies           1.75\n",
       "tax_liens                      0.10\n",
       "dtype: float64"
      ]
     },
     "execution_count": 14,
     "metadata": {},
     "output_type": "execute_result"
    }
   ],
   "source": [
    "missing = round(100*(loan.isnull().sum()/len(loan.id)), 2)\n",
    "missing[missing != 0]"
   ]
  },
  {
   "cell_type": "markdown",
   "metadata": {},
   "source": [
    "columns emp_title, emp_length have 6.19% and 2.71% missing value. Let's remove the rows with nan values for these varaibles."
   ]
  },
  {
   "cell_type": "code",
   "execution_count": 15,
   "metadata": {},
   "outputs": [],
   "source": [
    "loan=loan[~loan.emp_title.isnull()]\n",
    "loan=loan[~loan.emp_length.isnull()]"
   ]
  },
  {
   "cell_type": "code",
   "execution_count": 16,
   "metadata": {},
   "outputs": [
    {
     "data": {
      "text/plain": [
       "(37202, 54)"
      ]
     },
     "execution_count": 16,
     "metadata": {},
     "output_type": "execute_result"
    }
   ],
   "source": [
    "loan.shape"
   ]
  },
  {
   "cell_type": "code",
   "execution_count": 17,
   "metadata": {},
   "outputs": [
    {
     "data": {
      "text/plain": [
       "desc                          32.44\n",
       "title                          0.02\n",
       "revol_util                     0.12\n",
       "last_pymnt_d                   0.17\n",
       "collections_12_mths_ex_med     0.13\n",
       "chargeoff_within_12_mths       0.13\n",
       "pub_rec_bankruptcies           1.76\n",
       "tax_liens                      0.09\n",
       "dtype: float64"
      ]
     },
     "execution_count": 17,
     "metadata": {},
     "output_type": "execute_result"
    }
   ],
   "source": [
    "missing = round(100*(loan.isnull().sum()/len(loan.id)), 2) \n",
    "missing[missing != 0]"
   ]
  },
  {
   "cell_type": "markdown",
   "metadata": {},
   "source": [
    "we will also drop desc column because there is 32.44 % of null values and that's not an important column"
   ]
  },
  {
   "cell_type": "code",
   "execution_count": 18,
   "metadata": {},
   "outputs": [],
   "source": [
    "loan = loan.drop('desc',axis=1)"
   ]
  },
  {
   "cell_type": "code",
   "execution_count": 19,
   "metadata": {},
   "outputs": [
    {
     "name": "stdout",
     "output_type": "stream",
     "text": [
      "unique emp_title : 28775\n",
      "unique emp_length : 11\n",
      "unique title : 18392\n",
      "unique revol_util : 1083\n",
      "unique title : 18392\n",
      "unique last_pymnt_d : 102\n",
      "unique last_credit_pull_d : 106\n",
      "unique collections_12_mths_ex_med : 2\n",
      "unique chargeoff_within_12_mths : 2\n",
      "unique pub_rec_bankruptcies : 4\n",
      "unique tax_liens : 2\n"
     ]
    }
   ],
   "source": [
    "print(\"unique emp_title : %d\"  % len(loan.emp_title.unique()))\n",
    "print(\"unique emp_length : %d\"  % len(loan.emp_length.unique()))\n",
    "print(\"unique title : %d\"  % len(loan.title.unique()))\n",
    "print(\"unique revol_util : %d\"  % len(loan.revol_util.unique()))\n",
    "print(\"unique title : %d\"  % len(loan.title.unique()))\n",
    "print(\"unique last_pymnt_d : %d\"  % len(loan.last_pymnt_d.unique()))\n",
    "print(\"unique last_credit_pull_d : %d\"  % len(loan.last_credit_pull_d.unique()))\n",
    "print(\"unique collections_12_mths_ex_med : %d\"  % len(loan.collections_12_mths_ex_med.unique()))\n",
    "print(\"unique chargeoff_within_12_mths : %d\"  % len(loan.chargeoff_within_12_mths.unique()))\n",
    "print(\"unique pub_rec_bankruptcies : %d\"  % len(loan.pub_rec_bankruptcies.unique()))\n",
    "print(\"unique tax_liens : %d\"  % len(loan.tax_liens.unique()))"
   ]
  },
  {
   "cell_type": "markdown",
   "metadata": {},
   "source": [
    "There are some columns whose values are in range and are categorical. So, lets take a look at different values of these categorical columns"
   ]
  },
  {
   "cell_type": "code",
   "execution_count": 20,
   "metadata": {},
   "outputs": [
    {
     "data": {
      "text/plain": [
       "title                         0.02\n",
       "revol_util                    0.12\n",
       "last_pymnt_d                  0.17\n",
       "collections_12_mths_ex_med    0.13\n",
       "chargeoff_within_12_mths      0.13\n",
       "pub_rec_bankruptcies          1.76\n",
       "tax_liens                     0.09\n",
       "dtype: float64"
      ]
     },
     "execution_count": 20,
     "metadata": {},
     "output_type": "execute_result"
    }
   ],
   "source": [
    "missing = round(100*(loan.isnull().sum()/len(loan.id)), 2) \n",
    "missing[missing != 0]"
   ]
  },
  {
   "cell_type": "code",
   "execution_count": 21,
   "metadata": {},
   "outputs": [
    {
     "data": {
      "text/plain": [
       "array(['< 1 year', '10+ years', '1 year', '3 years', '8 years', '9 years',\n",
       "       '5 years', '4 years', '6 years', '2 years', '7 years'],\n",
       "      dtype=object)"
      ]
     },
     "execution_count": 21,
     "metadata": {},
     "output_type": "execute_result"
    }
   ],
   "source": [
    "loan.emp_length.unique()"
   ]
  },
  {
   "cell_type": "code",
   "execution_count": 22,
   "metadata": {},
   "outputs": [
    {
     "data": {
      "text/plain": [
       "array([ 0., nan])"
      ]
     },
     "execution_count": 22,
     "metadata": {},
     "output_type": "execute_result"
    }
   ],
   "source": [
    "loan.collections_12_mths_ex_med.unique()"
   ]
  },
  {
   "cell_type": "code",
   "execution_count": 23,
   "metadata": {},
   "outputs": [
    {
     "data": {
      "text/plain": [
       "array([ 0., nan])"
      ]
     },
     "execution_count": 23,
     "metadata": {},
     "output_type": "execute_result"
    }
   ],
   "source": [
    "loan.chargeoff_within_12_mths.unique()"
   ]
  },
  {
   "cell_type": "code",
   "execution_count": 24,
   "metadata": {},
   "outputs": [
    {
     "data": {
      "text/plain": [
       "array([ 0.,  1.,  2., nan])"
      ]
     },
     "execution_count": 24,
     "metadata": {},
     "output_type": "execute_result"
    }
   ],
   "source": [
    "loan.pub_rec_bankruptcies.unique()"
   ]
  },
  {
   "cell_type": "code",
   "execution_count": 25,
   "metadata": {},
   "outputs": [
    {
     "data": {
      "text/plain": [
       "array([ 0., nan])"
      ]
     },
     "execution_count": 25,
     "metadata": {},
     "output_type": "execute_result"
    }
   ],
   "source": [
    "loan.tax_liens.unique()"
   ]
  },
  {
   "cell_type": "markdown",
   "metadata": {},
   "source": [
    "The columns collections_12_mths_ex_med, chargeoff_within_12_mths and tax_liens has either value of 0 or nan. The range of values that these categorical columns can take is not of any significant impact to the analysis.\n",
    "We have decided to drop these columns for further analysis."
   ]
  },
  {
   "cell_type": "code",
   "execution_count": 26,
   "metadata": {},
   "outputs": [],
   "source": [
    "drop_columnlist = ['collections_12_mths_ex_med', 'chargeoff_within_12_mths', 'tax_liens']\n",
    "loan = loan.drop(drop_columnlist,axis=1)"
   ]
  },
  {
   "cell_type": "code",
   "execution_count": 27,
   "metadata": {},
   "outputs": [
    {
     "data": {
      "text/plain": [
       "(37202, 50)"
      ]
     },
     "execution_count": 27,
     "metadata": {},
     "output_type": "execute_result"
    }
   ],
   "source": [
    "loan.shape"
   ]
  },
  {
   "cell_type": "markdown",
   "metadata": {},
   "source": [
    "lets look at the pub_rec_bankruptcies(Number of public record bankruptcies) categorical column witch have a 1.76% missing data."
   ]
  },
  {
   "cell_type": "code",
   "execution_count": 28,
   "metadata": {},
   "outputs": [
    {
     "data": {
      "text/plain": [
       "0.0    35039\n",
       "1.0     1502\n",
       "2.0        7\n",
       "Name: pub_rec_bankruptcies, dtype: int64"
      ]
     },
     "execution_count": 28,
     "metadata": {},
     "output_type": "execute_result"
    }
   ],
   "source": [
    "loan.pub_rec_bankruptcies.value_counts()"
   ]
  },
  {
   "cell_type": "markdown",
   "metadata": {},
   "source": [
    "pub_rec_bankruptcies can be seen to have taking values like [0,1,2]. Almost 35039 records with 0 record of bankrupcies, 1502 records having one bankrupcies case and 7 records with two bankrupcies case.\n",
    "we will now remove all the rows which have 0 bankruptcy"
   ]
  },
  {
   "cell_type": "code",
   "execution_count": 29,
   "metadata": {},
   "outputs": [],
   "source": [
    "loan=loan[~loan.pub_rec_bankruptcies.isnull()]"
   ]
  },
  {
   "cell_type": "code",
   "execution_count": 30,
   "metadata": {},
   "outputs": [
    {
     "data": {
      "text/plain": [
       "title           0.02\n",
       "revol_util      0.13\n",
       "last_pymnt_d    0.18\n",
       "dtype: float64"
      ]
     },
     "execution_count": 30,
     "metadata": {},
     "output_type": "execute_result"
    }
   ],
   "source": [
    "missing = round(100*(loan.isnull().sum()/len(loan.id)), 2) \n",
    "missing[missing != 0]"
   ]
  },
  {
   "cell_type": "markdown",
   "metadata": {},
   "source": [
    "Now, we have 3 columns title, revol_util and last_pymnt_d which have a very small % of missing value of 0.02%, 0.13% and 0.18% respectively.\n",
    "title gives the title of the loan specified by the borrower in the application.\n",
    "revol_util gives the revolving line utelization and\n",
    "last_pymnt_d gives the month in which last payment was received,\n",
    "and we will remove all the rows which has null values"
   ]
  },
  {
   "cell_type": "code",
   "execution_count": 31,
   "metadata": {},
   "outputs": [],
   "source": [
    "loan=loan[~loan.title.isnull()]\n",
    "loan=loan[~loan.revol_util.isnull()]\n",
    "loan=loan[~loan.last_pymnt_d.isnull()]"
   ]
  },
  {
   "cell_type": "markdown",
   "metadata": {},
   "source": [
    "let's check again for the missing values"
   ]
  },
  {
   "cell_type": "code",
   "execution_count": 32,
   "metadata": {},
   "outputs": [
    {
     "data": {
      "text/plain": [
       "Series([], dtype: float64)"
      ]
     },
     "execution_count": 32,
     "metadata": {},
     "output_type": "execute_result"
    }
   ],
   "source": [
    "missing =round(100*(loan.isnull().sum()/len(loan.id)), 2) \n",
    "missing[missing != 0]"
   ]
  },
  {
   "cell_type": "markdown",
   "metadata": {},
   "source": [
    "as we have removed all the null values from the data, now we will create a new csv file file with no null values for further investigation"
   ]
  },
  {
   "cell_type": "code",
   "execution_count": 33,
   "metadata": {},
   "outputs": [],
   "source": [
    "loan.to_csv('clean_loan.csv', encoding='utf-8', index=False)"
   ]
  },
  {
   "cell_type": "code",
   "execution_count": 34,
   "metadata": {},
   "outputs": [
    {
     "data": {
      "text/html": [
       "<div>\n",
       "<style scoped>\n",
       "    .dataframe tbody tr th:only-of-type {\n",
       "        vertical-align: middle;\n",
       "    }\n",
       "\n",
       "    .dataframe tbody tr th {\n",
       "        vertical-align: top;\n",
       "    }\n",
       "\n",
       "    .dataframe thead th {\n",
       "        text-align: right;\n",
       "    }\n",
       "</style>\n",
       "<table border=\"1\" class=\"dataframe\">\n",
       "  <thead>\n",
       "    <tr style=\"text-align: right;\">\n",
       "      <th></th>\n",
       "      <th>id</th>\n",
       "      <th>member_id</th>\n",
       "      <th>loan_amnt</th>\n",
       "      <th>funded_amnt</th>\n",
       "      <th>funded_amnt_inv</th>\n",
       "      <th>term</th>\n",
       "      <th>int_rate</th>\n",
       "      <th>installment</th>\n",
       "      <th>grade</th>\n",
       "      <th>sub_grade</th>\n",
       "      <th>...</th>\n",
       "      <th>recoveries</th>\n",
       "      <th>collection_recovery_fee</th>\n",
       "      <th>last_pymnt_d</th>\n",
       "      <th>last_pymnt_amnt</th>\n",
       "      <th>last_credit_pull_d</th>\n",
       "      <th>policy_code</th>\n",
       "      <th>application_type</th>\n",
       "      <th>acc_now_delinq</th>\n",
       "      <th>delinq_amnt</th>\n",
       "      <th>pub_rec_bankruptcies</th>\n",
       "    </tr>\n",
       "  </thead>\n",
       "  <tbody>\n",
       "    <tr>\n",
       "      <th>0</th>\n",
       "      <td>1077430</td>\n",
       "      <td>1314167</td>\n",
       "      <td>2500</td>\n",
       "      <td>2500</td>\n",
       "      <td>2500.0</td>\n",
       "      <td>60 months</td>\n",
       "      <td>15.27%</td>\n",
       "      <td>59.83</td>\n",
       "      <td>C</td>\n",
       "      <td>C4</td>\n",
       "      <td>...</td>\n",
       "      <td>117.08</td>\n",
       "      <td>1.11</td>\n",
       "      <td>Apr-13</td>\n",
       "      <td>119.66</td>\n",
       "      <td>Sep-13</td>\n",
       "      <td>1</td>\n",
       "      <td>INDIVIDUAL</td>\n",
       "      <td>0</td>\n",
       "      <td>0</td>\n",
       "      <td>0.0</td>\n",
       "    </tr>\n",
       "    <tr>\n",
       "      <th>1</th>\n",
       "      <td>1076863</td>\n",
       "      <td>1277178</td>\n",
       "      <td>10000</td>\n",
       "      <td>10000</td>\n",
       "      <td>10000.0</td>\n",
       "      <td>36 months</td>\n",
       "      <td>13.49%</td>\n",
       "      <td>339.31</td>\n",
       "      <td>C</td>\n",
       "      <td>C1</td>\n",
       "      <td>...</td>\n",
       "      <td>0.00</td>\n",
       "      <td>0.00</td>\n",
       "      <td>Jan-15</td>\n",
       "      <td>357.48</td>\n",
       "      <td>Apr-16</td>\n",
       "      <td>1</td>\n",
       "      <td>INDIVIDUAL</td>\n",
       "      <td>0</td>\n",
       "      <td>0</td>\n",
       "      <td>0.0</td>\n",
       "    </tr>\n",
       "    <tr>\n",
       "      <th>2</th>\n",
       "      <td>1075358</td>\n",
       "      <td>1311748</td>\n",
       "      <td>3000</td>\n",
       "      <td>3000</td>\n",
       "      <td>3000.0</td>\n",
       "      <td>60 months</td>\n",
       "      <td>12.69%</td>\n",
       "      <td>67.79</td>\n",
       "      <td>B</td>\n",
       "      <td>B5</td>\n",
       "      <td>...</td>\n",
       "      <td>0.00</td>\n",
       "      <td>0.00</td>\n",
       "      <td>May-16</td>\n",
       "      <td>67.79</td>\n",
       "      <td>May-16</td>\n",
       "      <td>1</td>\n",
       "      <td>INDIVIDUAL</td>\n",
       "      <td>0</td>\n",
       "      <td>0</td>\n",
       "      <td>0.0</td>\n",
       "    </tr>\n",
       "    <tr>\n",
       "      <th>3</th>\n",
       "      <td>1075269</td>\n",
       "      <td>1311441</td>\n",
       "      <td>5000</td>\n",
       "      <td>5000</td>\n",
       "      <td>5000.0</td>\n",
       "      <td>36 months</td>\n",
       "      <td>7.90%</td>\n",
       "      <td>156.46</td>\n",
       "      <td>A</td>\n",
       "      <td>A4</td>\n",
       "      <td>...</td>\n",
       "      <td>0.00</td>\n",
       "      <td>0.00</td>\n",
       "      <td>Jan-15</td>\n",
       "      <td>161.03</td>\n",
       "      <td>Jan-16</td>\n",
       "      <td>1</td>\n",
       "      <td>INDIVIDUAL</td>\n",
       "      <td>0</td>\n",
       "      <td>0</td>\n",
       "      <td>0.0</td>\n",
       "    </tr>\n",
       "    <tr>\n",
       "      <th>4</th>\n",
       "      <td>1069639</td>\n",
       "      <td>1304742</td>\n",
       "      <td>7000</td>\n",
       "      <td>7000</td>\n",
       "      <td>7000.0</td>\n",
       "      <td>60 months</td>\n",
       "      <td>15.96%</td>\n",
       "      <td>170.08</td>\n",
       "      <td>C</td>\n",
       "      <td>C5</td>\n",
       "      <td>...</td>\n",
       "      <td>0.00</td>\n",
       "      <td>0.00</td>\n",
       "      <td>May-16</td>\n",
       "      <td>1313.76</td>\n",
       "      <td>May-16</td>\n",
       "      <td>1</td>\n",
       "      <td>INDIVIDUAL</td>\n",
       "      <td>0</td>\n",
       "      <td>0</td>\n",
       "      <td>0.0</td>\n",
       "    </tr>\n",
       "    <tr>\n",
       "      <th>...</th>\n",
       "      <td>...</td>\n",
       "      <td>...</td>\n",
       "      <td>...</td>\n",
       "      <td>...</td>\n",
       "      <td>...</td>\n",
       "      <td>...</td>\n",
       "      <td>...</td>\n",
       "      <td>...</td>\n",
       "      <td>...</td>\n",
       "      <td>...</td>\n",
       "      <td>...</td>\n",
       "      <td>...</td>\n",
       "      <td>...</td>\n",
       "      <td>...</td>\n",
       "      <td>...</td>\n",
       "      <td>...</td>\n",
       "      <td>...</td>\n",
       "      <td>...</td>\n",
       "      <td>...</td>\n",
       "      <td>...</td>\n",
       "      <td>...</td>\n",
       "    </tr>\n",
       "    <tr>\n",
       "      <th>36428</th>\n",
       "      <td>158706</td>\n",
       "      <td>158450</td>\n",
       "      <td>12375</td>\n",
       "      <td>12375</td>\n",
       "      <td>1000.0</td>\n",
       "      <td>36 months</td>\n",
       "      <td>10.91%</td>\n",
       "      <td>404.62</td>\n",
       "      <td>C</td>\n",
       "      <td>C3</td>\n",
       "      <td>...</td>\n",
       "      <td>0.00</td>\n",
       "      <td>0.00</td>\n",
       "      <td>Feb-10</td>\n",
       "      <td>4259.11</td>\n",
       "      <td>May-14</td>\n",
       "      <td>1</td>\n",
       "      <td>INDIVIDUAL</td>\n",
       "      <td>0</td>\n",
       "      <td>0</td>\n",
       "      <td>1.0</td>\n",
       "    </tr>\n",
       "    <tr>\n",
       "      <th>36429</th>\n",
       "      <td>154154</td>\n",
       "      <td>151536</td>\n",
       "      <td>4800</td>\n",
       "      <td>4800</td>\n",
       "      <td>1100.0</td>\n",
       "      <td>36 months</td>\n",
       "      <td>10.28%</td>\n",
       "      <td>155.52</td>\n",
       "      <td>C</td>\n",
       "      <td>C1</td>\n",
       "      <td>...</td>\n",
       "      <td>0.00</td>\n",
       "      <td>0.00</td>\n",
       "      <td>Aug-08</td>\n",
       "      <td>3891.08</td>\n",
       "      <td>Aug-08</td>\n",
       "      <td>1</td>\n",
       "      <td>INDIVIDUAL</td>\n",
       "      <td>0</td>\n",
       "      <td>0</td>\n",
       "      <td>1.0</td>\n",
       "    </tr>\n",
       "    <tr>\n",
       "      <th>36430</th>\n",
       "      <td>132892</td>\n",
       "      <td>132889</td>\n",
       "      <td>9000</td>\n",
       "      <td>9000</td>\n",
       "      <td>700.0</td>\n",
       "      <td>36 months</td>\n",
       "      <td>12.49%</td>\n",
       "      <td>301.04</td>\n",
       "      <td>D</td>\n",
       "      <td>D3</td>\n",
       "      <td>...</td>\n",
       "      <td>1909.87</td>\n",
       "      <td>668.36</td>\n",
       "      <td>May-08</td>\n",
       "      <td>301.05</td>\n",
       "      <td>May-16</td>\n",
       "      <td>1</td>\n",
       "      <td>INDIVIDUAL</td>\n",
       "      <td>0</td>\n",
       "      <td>0</td>\n",
       "      <td>1.0</td>\n",
       "    </tr>\n",
       "    <tr>\n",
       "      <th>36431</th>\n",
       "      <td>119043</td>\n",
       "      <td>119040</td>\n",
       "      <td>15450</td>\n",
       "      <td>15450</td>\n",
       "      <td>600.0</td>\n",
       "      <td>36 months</td>\n",
       "      <td>11.22%</td>\n",
       "      <td>507.46</td>\n",
       "      <td>C</td>\n",
       "      <td>C4</td>\n",
       "      <td>...</td>\n",
       "      <td>304.20</td>\n",
       "      <td>3.09</td>\n",
       "      <td>Oct-09</td>\n",
       "      <td>1016.15</td>\n",
       "      <td>Mar-10</td>\n",
       "      <td>1</td>\n",
       "      <td>INDIVIDUAL</td>\n",
       "      <td>0</td>\n",
       "      <td>0</td>\n",
       "      <td>1.0</td>\n",
       "    </tr>\n",
       "    <tr>\n",
       "      <th>36432</th>\n",
       "      <td>112496</td>\n",
       "      <td>112493</td>\n",
       "      <td>3000</td>\n",
       "      <td>3000</td>\n",
       "      <td>525.0</td>\n",
       "      <td>36 months</td>\n",
       "      <td>11.86%</td>\n",
       "      <td>99.44</td>\n",
       "      <td>D</td>\n",
       "      <td>D1</td>\n",
       "      <td>...</td>\n",
       "      <td>0.00</td>\n",
       "      <td>0.00</td>\n",
       "      <td>Aug-10</td>\n",
       "      <td>101.51</td>\n",
       "      <td>Jul-10</td>\n",
       "      <td>1</td>\n",
       "      <td>INDIVIDUAL</td>\n",
       "      <td>0</td>\n",
       "      <td>0</td>\n",
       "      <td>1.0</td>\n",
       "    </tr>\n",
       "  </tbody>\n",
       "</table>\n",
       "<p>36433 rows × 50 columns</p>\n",
       "</div>"
      ],
      "text/plain": [
       "            id  member_id  loan_amnt  funded_amnt  funded_amnt_inv  \\\n",
       "0      1077430    1314167       2500         2500           2500.0   \n",
       "1      1076863    1277178      10000        10000          10000.0   \n",
       "2      1075358    1311748       3000         3000           3000.0   \n",
       "3      1075269    1311441       5000         5000           5000.0   \n",
       "4      1069639    1304742       7000         7000           7000.0   \n",
       "...        ...        ...        ...          ...              ...   \n",
       "36428   158706     158450      12375        12375           1000.0   \n",
       "36429   154154     151536       4800         4800           1100.0   \n",
       "36430   132892     132889       9000         9000            700.0   \n",
       "36431   119043     119040      15450        15450            600.0   \n",
       "36432   112496     112493       3000         3000            525.0   \n",
       "\n",
       "             term int_rate  installment grade sub_grade  ... recoveries  \\\n",
       "0       60 months   15.27%        59.83     C        C4  ...     117.08   \n",
       "1       36 months   13.49%       339.31     C        C1  ...       0.00   \n",
       "2       60 months   12.69%        67.79     B        B5  ...       0.00   \n",
       "3       36 months    7.90%       156.46     A        A4  ...       0.00   \n",
       "4       60 months   15.96%       170.08     C        C5  ...       0.00   \n",
       "...           ...      ...          ...   ...       ...  ...        ...   \n",
       "36428   36 months   10.91%       404.62     C        C3  ...       0.00   \n",
       "36429   36 months   10.28%       155.52     C        C1  ...       0.00   \n",
       "36430   36 months   12.49%       301.04     D        D3  ...    1909.87   \n",
       "36431   36 months   11.22%       507.46     C        C4  ...     304.20   \n",
       "36432   36 months   11.86%        99.44     D        D1  ...       0.00   \n",
       "\n",
       "      collection_recovery_fee last_pymnt_d  last_pymnt_amnt  \\\n",
       "0                        1.11       Apr-13           119.66   \n",
       "1                        0.00       Jan-15           357.48   \n",
       "2                        0.00       May-16            67.79   \n",
       "3                        0.00       Jan-15           161.03   \n",
       "4                        0.00       May-16          1313.76   \n",
       "...                       ...          ...              ...   \n",
       "36428                    0.00       Feb-10          4259.11   \n",
       "36429                    0.00       Aug-08          3891.08   \n",
       "36430                  668.36       May-08           301.05   \n",
       "36431                    3.09       Oct-09          1016.15   \n",
       "36432                    0.00       Aug-10           101.51   \n",
       "\n",
       "      last_credit_pull_d policy_code application_type acc_now_delinq  \\\n",
       "0                 Sep-13           1       INDIVIDUAL              0   \n",
       "1                 Apr-16           1       INDIVIDUAL              0   \n",
       "2                 May-16           1       INDIVIDUAL              0   \n",
       "3                 Jan-16           1       INDIVIDUAL              0   \n",
       "4                 May-16           1       INDIVIDUAL              0   \n",
       "...                  ...         ...              ...            ...   \n",
       "36428             May-14           1       INDIVIDUAL              0   \n",
       "36429             Aug-08           1       INDIVIDUAL              0   \n",
       "36430             May-16           1       INDIVIDUAL              0   \n",
       "36431             Mar-10           1       INDIVIDUAL              0   \n",
       "36432             Jul-10           1       INDIVIDUAL              0   \n",
       "\n",
       "      delinq_amnt pub_rec_bankruptcies  \n",
       "0               0                  0.0  \n",
       "1               0                  0.0  \n",
       "2               0                  0.0  \n",
       "3               0                  0.0  \n",
       "4               0                  0.0  \n",
       "...           ...                  ...  \n",
       "36428           0                  1.0  \n",
       "36429           0                  1.0  \n",
       "36430           0                  1.0  \n",
       "36431           0                  1.0  \n",
       "36432           0                  1.0  \n",
       "\n",
       "[36433 rows x 50 columns]"
      ]
     },
     "execution_count": 34,
     "metadata": {},
     "output_type": "execute_result"
    }
   ],
   "source": [
    "pd.read_csv('clean_loan.csv',encoding='utf-8')"
   ]
  },
  {
   "cell_type": "code",
   "execution_count": 35,
   "metadata": {},
   "outputs": [],
   "source": [
    "clean_loan = loan[:]"
   ]
  },
  {
   "cell_type": "code",
   "execution_count": 36,
   "metadata": {},
   "outputs": [
    {
     "data": {
      "text/plain": [
       "acc_now_delinq                 1\n",
       "application_type               1\n",
       "policy_code                    1\n",
       "initial_list_status            1\n",
       "delinq_amnt                    1\n",
       "pymnt_plan                     1\n",
       "term                           2\n",
       "pub_rec_bankruptcies           3\n",
       "loan_status                    3\n",
       "verification_status            3\n",
       "home_ownership                 4\n",
       "pub_rec                        5\n",
       "grade                          7\n",
       "inq_last_6mths                 9\n",
       "delinq_2yrs                   11\n",
       "emp_length                    11\n",
       "purpose                       14\n",
       "sub_grade                     35\n",
       "open_acc                      38\n",
       "addr_state                    49\n",
       "issue_d                       52\n",
       "total_acc                     79\n",
       "last_credit_pull_d            96\n",
       "last_pymnt_d                  97\n",
       "int_rate                     334\n",
       "earliest_cr_line             510\n",
       "zip_code                     806\n",
       "loan_amnt                    863\n",
       "funded_amnt                 1024\n",
       "out_prncp                   1064\n",
       "out_prncp_inv               1065\n",
       "revol_util                  1082\n",
       "total_rec_late_fee          1194\n",
       "collection_recovery_fee     2386\n",
       "dti                         2857\n",
       "recoveries                  3585\n",
       "annual_inc                  4924\n",
       "total_rec_prncp             7254\n",
       "funded_amnt_inv             7474\n",
       "installment                14367\n",
       "title                      17954\n",
       "revol_bal                  20790\n",
       "emp_title                  28207\n",
       "last_pymnt_amnt            32467\n",
       "total_rec_int              32523\n",
       "total_pymnt_inv            34524\n",
       "total_pymnt                34802\n",
       "url                        36433\n",
       "member_id                  36433\n",
       "id                         36433\n",
       "dtype: int64"
      ]
     },
     "execution_count": 36,
     "metadata": {},
     "output_type": "execute_result"
    }
   ],
   "source": [
    "clean_loan.nunique().sort_values()"
   ]
  },
  {
   "cell_type": "markdown",
   "metadata": {},
   "source": [
    "There are a few columns having a single unique value or all unique values. These may have nothing much to contribute to the analysis i.e. columns which are far from being the driving columns towards loan default. Some other columns are redundant."
   ]
  },
  {
   "cell_type": "markdown",
   "metadata": {},
   "source": [
    "1. id :is a random number given to the loan, does not contribute to analysis\n",
    "2. member_id : is a random number given to the member, does not contribute to analysis\n",
    "3. pymnt_plan : value for entire dataset is 'n', therefore can be removed.\n",
    "4. url : is a URL for LC page for corresponding to each memberid, nothing to do with loan default.\n",
    "5. zip_code : first 3 digits of the 5 digit zip code are visible, also is redundant with addr_state, does not contribute to analysis\n",
    "6. initial_list_status : value for entire dataset is 'f' out of the possible values, therefore can be removed.\n",
    "7. policy_code : value for entire dataset is '1', indicating all are publicly available, therefore nothing to contribute for analysis, to be removed.\n",
    "8. application_type : value for entire dataset is 'INDIVIDUAL', indicating all are individual applications not joint, therefore nothing to contribute for analysis, to be removed.\n",
    "9. acc_now_delinq : value for entire dataset is '0', therefore can be removed.\n",
    "10. delinq_amnt : value for entire dataset is '0', therefore can be removed.\n",
    "11. funded_amnt : value for this column is almost equivalent to loan_amnt. removing to avoid multi colinearity.\n",
    "12. funded_amnt_inv : value for this column is almost equivalent to funded_amnt. removing to avoid multi colinearity. Also this wont be available at the time of decision making of funding a loan.\n",
    "\n",
    "Dropping all the above columns"
   ]
  },
  {
   "cell_type": "code",
   "execution_count": 37,
   "metadata": {},
   "outputs": [],
   "source": [
    "not_use_full_colum = ['id','member_id','funded_amnt','funded_amnt_inv','pymnt_plan','url','zip_code','initial_list_status','policy_code','application_type','acc_now_delinq','delinq_amnt',]\n",
    "clean_loan= clean_loan.drop(not_use_full_colum,axis=1)"
   ]
  },
  {
   "cell_type": "code",
   "execution_count": 38,
   "metadata": {},
   "outputs": [
    {
     "data": {
      "text/html": [
       "<div>\n",
       "<style scoped>\n",
       "    .dataframe tbody tr th:only-of-type {\n",
       "        vertical-align: middle;\n",
       "    }\n",
       "\n",
       "    .dataframe tbody tr th {\n",
       "        vertical-align: top;\n",
       "    }\n",
       "\n",
       "    .dataframe thead th {\n",
       "        text-align: right;\n",
       "    }\n",
       "</style>\n",
       "<table border=\"1\" class=\"dataframe\">\n",
       "  <thead>\n",
       "    <tr style=\"text-align: right;\">\n",
       "      <th></th>\n",
       "      <th>loan_amnt</th>\n",
       "      <th>installment</th>\n",
       "      <th>annual_inc</th>\n",
       "      <th>dti</th>\n",
       "      <th>delinq_2yrs</th>\n",
       "      <th>inq_last_6mths</th>\n",
       "      <th>open_acc</th>\n",
       "      <th>pub_rec</th>\n",
       "      <th>revol_bal</th>\n",
       "      <th>total_acc</th>\n",
       "      <th>...</th>\n",
       "      <th>out_prncp_inv</th>\n",
       "      <th>total_pymnt</th>\n",
       "      <th>total_pymnt_inv</th>\n",
       "      <th>total_rec_prncp</th>\n",
       "      <th>total_rec_int</th>\n",
       "      <th>total_rec_late_fee</th>\n",
       "      <th>recoveries</th>\n",
       "      <th>collection_recovery_fee</th>\n",
       "      <th>last_pymnt_amnt</th>\n",
       "      <th>pub_rec_bankruptcies</th>\n",
       "    </tr>\n",
       "  </thead>\n",
       "  <tbody>\n",
       "    <tr>\n",
       "      <th>count</th>\n",
       "      <td>36433.000000</td>\n",
       "      <td>36433.000000</td>\n",
       "      <td>3.643300e+04</td>\n",
       "      <td>36433.000000</td>\n",
       "      <td>36433.000000</td>\n",
       "      <td>36433.00000</td>\n",
       "      <td>36433.000000</td>\n",
       "      <td>36433.000000</td>\n",
       "      <td>36433.000000</td>\n",
       "      <td>36433.000000</td>\n",
       "      <td>...</td>\n",
       "      <td>36433.000000</td>\n",
       "      <td>36433.000000</td>\n",
       "      <td>36433.000000</td>\n",
       "      <td>36433.000000</td>\n",
       "      <td>36433.000000</td>\n",
       "      <td>36433.000000</td>\n",
       "      <td>36433.000000</td>\n",
       "      <td>36433.000000</td>\n",
       "      <td>36433.000000</td>\n",
       "      <td>36433.000000</td>\n",
       "    </tr>\n",
       "    <tr>\n",
       "      <th>mean</th>\n",
       "      <td>11307.679851</td>\n",
       "      <td>326.186394</td>\n",
       "      <td>6.930522e+04</td>\n",
       "      <td>13.444131</td>\n",
       "      <td>0.146131</td>\n",
       "      <td>0.86493</td>\n",
       "      <td>9.351604</td>\n",
       "      <td>0.053715</td>\n",
       "      <td>13465.657481</td>\n",
       "      <td>22.245876</td>\n",
       "      <td>...</td>\n",
       "      <td>52.213313</td>\n",
       "      <td>12310.968657</td>\n",
       "      <td>11841.070656</td>\n",
       "      <td>9912.408471</td>\n",
       "      <td>2304.404937</td>\n",
       "      <td>1.299840</td>\n",
       "      <td>92.855490</td>\n",
       "      <td>11.677065</td>\n",
       "      <td>2742.955476</td>\n",
       "      <td>0.041418</td>\n",
       "    </tr>\n",
       "    <tr>\n",
       "      <th>std</th>\n",
       "      <td>7433.859357</td>\n",
       "      <td>207.389943</td>\n",
       "      <td>6.354244e+04</td>\n",
       "      <td>6.643308</td>\n",
       "      <td>0.492199</td>\n",
       "      <td>1.06343</td>\n",
       "      <td>4.373772</td>\n",
       "      <td>0.234995</td>\n",
       "      <td>15702.093047</td>\n",
       "      <td>11.376692</td>\n",
       "      <td>...</td>\n",
       "      <td>378.443825</td>\n",
       "      <td>9048.420885</td>\n",
       "      <td>8911.319070</td>\n",
       "      <td>7053.212865</td>\n",
       "      <td>2629.542911</td>\n",
       "      <td>7.065629</td>\n",
       "      <td>682.047187</td>\n",
       "      <td>140.880327</td>\n",
       "      <td>4473.528922</td>\n",
       "      <td>0.200221</td>\n",
       "    </tr>\n",
       "    <tr>\n",
       "      <th>min</th>\n",
       "      <td>500.000000</td>\n",
       "      <td>16.080000</td>\n",
       "      <td>4.000000e+03</td>\n",
       "      <td>0.000000</td>\n",
       "      <td>0.000000</td>\n",
       "      <td>0.00000</td>\n",
       "      <td>2.000000</td>\n",
       "      <td>0.000000</td>\n",
       "      <td>0.000000</td>\n",
       "      <td>2.000000</td>\n",
       "      <td>...</td>\n",
       "      <td>0.000000</td>\n",
       "      <td>33.730000</td>\n",
       "      <td>0.000000</td>\n",
       "      <td>0.000000</td>\n",
       "      <td>6.220000</td>\n",
       "      <td>0.000000</td>\n",
       "      <td>0.000000</td>\n",
       "      <td>0.000000</td>\n",
       "      <td>0.010000</td>\n",
       "      <td>0.000000</td>\n",
       "    </tr>\n",
       "    <tr>\n",
       "      <th>25%</th>\n",
       "      <td>5600.000000</td>\n",
       "      <td>168.900000</td>\n",
       "      <td>4.200000e+04</td>\n",
       "      <td>8.360000</td>\n",
       "      <td>0.000000</td>\n",
       "      <td>0.00000</td>\n",
       "      <td>6.000000</td>\n",
       "      <td>0.000000</td>\n",
       "      <td>3832.000000</td>\n",
       "      <td>14.000000</td>\n",
       "      <td>...</td>\n",
       "      <td>0.000000</td>\n",
       "      <td>5672.557913</td>\n",
       "      <td>5413.410000</td>\n",
       "      <td>4800.000000</td>\n",
       "      <td>678.010000</td>\n",
       "      <td>0.000000</td>\n",
       "      <td>0.000000</td>\n",
       "      <td>0.000000</td>\n",
       "      <td>226.280000</td>\n",
       "      <td>0.000000</td>\n",
       "    </tr>\n",
       "    <tr>\n",
       "      <th>50%</th>\n",
       "      <td>10000.000000</td>\n",
       "      <td>283.280000</td>\n",
       "      <td>6.000000e+04</td>\n",
       "      <td>13.540000</td>\n",
       "      <td>0.000000</td>\n",
       "      <td>1.00000</td>\n",
       "      <td>9.000000</td>\n",
       "      <td>0.000000</td>\n",
       "      <td>9030.000000</td>\n",
       "      <td>21.000000</td>\n",
       "      <td>...</td>\n",
       "      <td>0.000000</td>\n",
       "      <td>10101.589360</td>\n",
       "      <td>9632.040000</td>\n",
       "      <td>8123.600000</td>\n",
       "      <td>1379.820000</td>\n",
       "      <td>0.000000</td>\n",
       "      <td>0.000000</td>\n",
       "      <td>0.000000</td>\n",
       "      <td>571.700000</td>\n",
       "      <td>0.000000</td>\n",
       "    </tr>\n",
       "    <tr>\n",
       "      <th>75%</th>\n",
       "      <td>15000.000000</td>\n",
       "      <td>432.220000</td>\n",
       "      <td>8.300000e+04</td>\n",
       "      <td>18.690000</td>\n",
       "      <td>0.000000</td>\n",
       "      <td>1.00000</td>\n",
       "      <td>12.000000</td>\n",
       "      <td>0.000000</td>\n",
       "      <td>17231.000000</td>\n",
       "      <td>29.000000</td>\n",
       "      <td>...</td>\n",
       "      <td>0.000000</td>\n",
       "      <td>16700.719980</td>\n",
       "      <td>16094.490000</td>\n",
       "      <td>14000.000000</td>\n",
       "      <td>2891.860000</td>\n",
       "      <td>0.000000</td>\n",
       "      <td>0.000000</td>\n",
       "      <td>0.000000</td>\n",
       "      <td>3457.580000</td>\n",
       "      <td>0.000000</td>\n",
       "    </tr>\n",
       "    <tr>\n",
       "      <th>max</th>\n",
       "      <td>35000.000000</td>\n",
       "      <td>1305.190000</td>\n",
       "      <td>6.000000e+06</td>\n",
       "      <td>29.990000</td>\n",
       "      <td>11.000000</td>\n",
       "      <td>8.00000</td>\n",
       "      <td>44.000000</td>\n",
       "      <td>4.000000</td>\n",
       "      <td>149588.000000</td>\n",
       "      <td>90.000000</td>\n",
       "      <td>...</td>\n",
       "      <td>6307.370000</td>\n",
       "      <td>58563.679930</td>\n",
       "      <td>58563.680000</td>\n",
       "      <td>35000.020000</td>\n",
       "      <td>23563.680000</td>\n",
       "      <td>180.200000</td>\n",
       "      <td>29623.350000</td>\n",
       "      <td>7002.190000</td>\n",
       "      <td>36115.200000</td>\n",
       "      <td>2.000000</td>\n",
       "    </tr>\n",
       "  </tbody>\n",
       "</table>\n",
       "<p>8 rows × 21 columns</p>\n",
       "</div>"
      ],
      "text/plain": [
       "          loan_amnt   installment    annual_inc           dti   delinq_2yrs  \\\n",
       "count  36433.000000  36433.000000  3.643300e+04  36433.000000  36433.000000   \n",
       "mean   11307.679851    326.186394  6.930522e+04     13.444131      0.146131   \n",
       "std     7433.859357    207.389943  6.354244e+04      6.643308      0.492199   \n",
       "min      500.000000     16.080000  4.000000e+03      0.000000      0.000000   \n",
       "25%     5600.000000    168.900000  4.200000e+04      8.360000      0.000000   \n",
       "50%    10000.000000    283.280000  6.000000e+04     13.540000      0.000000   \n",
       "75%    15000.000000    432.220000  8.300000e+04     18.690000      0.000000   \n",
       "max    35000.000000   1305.190000  6.000000e+06     29.990000     11.000000   \n",
       "\n",
       "       inq_last_6mths      open_acc       pub_rec      revol_bal  \\\n",
       "count     36433.00000  36433.000000  36433.000000   36433.000000   \n",
       "mean          0.86493      9.351604      0.053715   13465.657481   \n",
       "std           1.06343      4.373772      0.234995   15702.093047   \n",
       "min           0.00000      2.000000      0.000000       0.000000   \n",
       "25%           0.00000      6.000000      0.000000    3832.000000   \n",
       "50%           1.00000      9.000000      0.000000    9030.000000   \n",
       "75%           1.00000     12.000000      0.000000   17231.000000   \n",
       "max           8.00000     44.000000      4.000000  149588.000000   \n",
       "\n",
       "          total_acc  ...  out_prncp_inv   total_pymnt  total_pymnt_inv  \\\n",
       "count  36433.000000  ...   36433.000000  36433.000000     36433.000000   \n",
       "mean      22.245876  ...      52.213313  12310.968657     11841.070656   \n",
       "std       11.376692  ...     378.443825   9048.420885      8911.319070   \n",
       "min        2.000000  ...       0.000000     33.730000         0.000000   \n",
       "25%       14.000000  ...       0.000000   5672.557913      5413.410000   \n",
       "50%       21.000000  ...       0.000000  10101.589360      9632.040000   \n",
       "75%       29.000000  ...       0.000000  16700.719980     16094.490000   \n",
       "max       90.000000  ...    6307.370000  58563.679930     58563.680000   \n",
       "\n",
       "       total_rec_prncp  total_rec_int  total_rec_late_fee    recoveries  \\\n",
       "count     36433.000000   36433.000000        36433.000000  36433.000000   \n",
       "mean       9912.408471    2304.404937            1.299840     92.855490   \n",
       "std        7053.212865    2629.542911            7.065629    682.047187   \n",
       "min           0.000000       6.220000            0.000000      0.000000   \n",
       "25%        4800.000000     678.010000            0.000000      0.000000   \n",
       "50%        8123.600000    1379.820000            0.000000      0.000000   \n",
       "75%       14000.000000    2891.860000            0.000000      0.000000   \n",
       "max       35000.020000   23563.680000          180.200000  29623.350000   \n",
       "\n",
       "       collection_recovery_fee  last_pymnt_amnt  pub_rec_bankruptcies  \n",
       "count             36433.000000     36433.000000          36433.000000  \n",
       "mean                 11.677065      2742.955476              0.041418  \n",
       "std                 140.880327      4473.528922              0.200221  \n",
       "min                   0.000000         0.010000              0.000000  \n",
       "25%                   0.000000       226.280000              0.000000  \n",
       "50%                   0.000000       571.700000              0.000000  \n",
       "75%                   0.000000      3457.580000              0.000000  \n",
       "max                7002.190000     36115.200000              2.000000  \n",
       "\n",
       "[8 rows x 21 columns]"
      ]
     },
     "execution_count": 38,
     "metadata": {},
     "output_type": "execute_result"
    }
   ],
   "source": [
    "clean_loan.describe()"
   ]
  },
  {
   "cell_type": "markdown",
   "metadata": {},
   "source": [
    "there are few columns which denote date or month information but are of the type object in the dataframe.\n",
    "Lets change them \n"
   ]
  },
  {
   "cell_type": "code",
   "execution_count": 39,
   "metadata": {},
   "outputs": [],
   "source": [
    "clean_loan.issue_d = pd.to_datetime(clean_loan.issue_d, format='%b-%y')\n",
    "clean_loan.earliest_cr_line = pd.to_datetime(clean_loan.earliest_cr_line, format='%b-%y')\n",
    "clean_loan.last_pymnt_d = pd.to_datetime(clean_loan.last_pymnt_d, format='%b-%y')\n",
    "clean_loan.last_credit_pull_d = pd.to_datetime(clean_loan.last_credit_pull_d, format='%b-%y')"
   ]
  },
  {
   "cell_type": "markdown",
   "metadata": {},
   "source": [
    "Let us now take a look at the emp_length column."
   ]
  },
  {
   "cell_type": "code",
   "execution_count": 40,
   "metadata": {},
   "outputs": [
    {
     "data": {
      "text/plain": [
       "10+ years    8407\n",
       "2 years      4178\n",
       "< 1 year     4052\n",
       "3 years      3914\n",
       "4 years      3297\n",
       "5 years      3129\n",
       "1 year       3026\n",
       "6 years      2121\n",
       "7 years      1697\n",
       "8 years      1405\n",
       "9 years      1207\n",
       "Name: emp_length, dtype: int64"
      ]
     },
     "execution_count": 40,
     "metadata": {},
     "output_type": "execute_result"
    }
   ],
   "source": [
    "clean_loan.emp_length.value_counts()"
   ]
  },
  {
   "cell_type": "markdown",
   "metadata": {},
   "source": [
    "According to the data_dictionary file description for this field,\n",
    "emp_length Possible values are between 0 and 10 where 0 means less than one year and 10 means ten or more years.\n",
    "Let's convert the column to have values between 0 and 10."
   ]
  },
  {
   "cell_type": "code",
   "execution_count": 41,
   "metadata": {},
   "outputs": [],
   "source": [
    "emp_length_dict = {\n",
    "    '< 1 year' : 0,\n",
    "    '1 year' : 1,\n",
    "    '2 years' : 2,\n",
    "    '3 years' : 3,\n",
    "    '4 years' : 4,\n",
    "    '5 years' : 5,\n",
    "    '6 years' : 6,\n",
    "    '7 years' : 7,\n",
    "    '8 years' : 8,\n",
    "    '9 years' : 9,\n",
    "    '10+ years' : 10\n",
    "}"
   ]
  },
  {
   "cell_type": "code",
   "execution_count": 42,
   "metadata": {},
   "outputs": [],
   "source": [
    "clean_loan = clean_loan.replace({\"emp_length\": emp_length_dict })"
   ]
  },
  {
   "cell_type": "code",
   "execution_count": 43,
   "metadata": {},
   "outputs": [
    {
     "data": {
      "text/plain": [
       "10    8407\n",
       "2     4178\n",
       "0     4052\n",
       "3     3914\n",
       "4     3297\n",
       "5     3129\n",
       "1     3026\n",
       "6     2121\n",
       "7     1697\n",
       "8     1405\n",
       "9     1207\n",
       "Name: emp_length, dtype: int64"
      ]
     },
     "execution_count": 43,
     "metadata": {},
     "output_type": "execute_result"
    }
   ],
   "source": [
    "clean_loan.emp_length.value_counts()"
   ]
  },
  {
   "cell_type": "markdown",
   "metadata": {},
   "source": [
    "now,lets remove the 'months' from term column"
   ]
  },
  {
   "cell_type": "code",
   "execution_count": 44,
   "metadata": {},
   "outputs": [],
   "source": [
    "clean_loan['term'] = clean_loan.term.apply(lambda x: x.split()[0])"
   ]
  },
  {
   "cell_type": "markdown",
   "metadata": {},
   "source": [
    "now,  we have to split the year and months from earliest_cr_line columns:"
   ]
  },
  {
   "cell_type": "code",
   "execution_count": 45,
   "metadata": {},
   "outputs": [],
   "source": [
    "clean_loan['earliest_cr_line_month'] = clean_loan['earliest_cr_line'].dt.month\n",
    "clean_loan['earliest_cr_line_year'] = clean_loan['earliest_cr_line'].dt.year"
   ]
  },
  {
   "cell_type": "code",
   "execution_count": 46,
   "metadata": {},
   "outputs": [
    {
     "data": {
      "text/plain": [
       "array([2068, 2067, 2065, 2063, 2066, 2062, 2056, 2046, 2050, 2064, 2054],\n",
       "      dtype=int64)"
      ]
     },
     "execution_count": 46,
     "metadata": {},
     "output_type": "execute_result"
    }
   ],
   "source": [
    "clean_loan[clean_loan['earliest_cr_line_year'] > 2011 ]['earliest_cr_line_year'].unique()"
   ]
  },
  {
   "cell_type": "markdown",
   "metadata": {},
   "source": [
    "This seems to be a result of y2k like error. Year stored in two digits being interpreted as year in 21st century. Let's fix the entries."
   ]
  },
  {
   "cell_type": "code",
   "execution_count": 47,
   "metadata": {},
   "outputs": [],
   "source": [
    "clean_loan.loc[clean_loan['earliest_cr_line_year'] > 2011 , 'earliest_cr_line_year'] = clean_loan['earliest_cr_line_year'] - 100"
   ]
  },
  {
   "cell_type": "code",
   "execution_count": 48,
   "metadata": {},
   "outputs": [
    {
     "data": {
      "text/plain": [
       "earliest_cr_line_year\n",
       "1946       1\n",
       "1950       1\n",
       "1954       1\n",
       "1956       1\n",
       "1962       3\n",
       "1963       4\n",
       "1964       2\n",
       "1965       6\n",
       "1966       7\n",
       "1967      12\n",
       "1968      12\n",
       "1969      22\n",
       "1970      35\n",
       "1971      34\n",
       "1972      33\n",
       "1973      41\n",
       "1974      51\n",
       "1975      57\n",
       "1976      73\n",
       "1977      90\n",
       "1978     130\n",
       "1979     141\n",
       "1980     150\n",
       "1981     154\n",
       "1982     196\n",
       "1983     296\n",
       "1984     360\n",
       "1985     406\n",
       "1986     447\n",
       "1987     565\n",
       "1988     671\n",
       "1989     781\n",
       "1990     944\n",
       "1991     884\n",
       "1992     970\n",
       "1993    1398\n",
       "1994    1860\n",
       "1995    1974\n",
       "1996    2074\n",
       "1997    2271\n",
       "1998    2645\n",
       "1999    2763\n",
       "2000    3034\n",
       "2001    2363\n",
       "2002    1794\n",
       "2003    1740\n",
       "2004    1639\n",
       "2005    1406\n",
       "2006    1079\n",
       "2007     668\n",
       "2008     144\n",
       "Name: loan_amnt, dtype: int64"
      ]
     },
     "execution_count": 48,
     "metadata": {},
     "output_type": "execute_result"
    }
   ],
   "source": [
    "clean_loan.groupby('earliest_cr_line_year').loan_amnt.count()"
   ]
  },
  {
   "cell_type": "markdown",
   "metadata": {},
   "source": [
    "issue_d: The month which the loan was funded .Lets split the available date into month and year column."
   ]
  },
  {
   "cell_type": "code",
   "execution_count": 49,
   "metadata": {},
   "outputs": [],
   "source": [
    "clean_loan['issue_d_month'] = clean_loan['issue_d'].dt.month\n",
    "clean_loan['issue_d_year'] = clean_loan['issue_d'].dt.year"
   ]
  },
  {
   "cell_type": "markdown",
   "metadata": {},
   "source": [
    "now,we have fix all the issues,and ready to analyze the new dataset\n"
   ]
  },
  {
   "cell_type": "code",
   "execution_count": 50,
   "metadata": {},
   "outputs": [],
   "source": [
    "clean_loan.to_csv('final_loan.csv', encoding='utf-8', index=False)"
   ]
  },
  {
   "cell_type": "markdown",
   "metadata": {},
   "source": [
    "# Analysis"
   ]
  },
  {
   "cell_type": "code",
   "execution_count": 51,
   "metadata": {},
   "outputs": [
    {
     "data": {
      "text/html": [
       "<div>\n",
       "<style scoped>\n",
       "    .dataframe tbody tr th:only-of-type {\n",
       "        vertical-align: middle;\n",
       "    }\n",
       "\n",
       "    .dataframe tbody tr th {\n",
       "        vertical-align: top;\n",
       "    }\n",
       "\n",
       "    .dataframe thead th {\n",
       "        text-align: right;\n",
       "    }\n",
       "</style>\n",
       "<table border=\"1\" class=\"dataframe\">\n",
       "  <thead>\n",
       "    <tr style=\"text-align: right;\">\n",
       "      <th></th>\n",
       "      <th>loan_amnt</th>\n",
       "      <th>term</th>\n",
       "      <th>int_rate</th>\n",
       "      <th>installment</th>\n",
       "      <th>grade</th>\n",
       "      <th>sub_grade</th>\n",
       "      <th>emp_title</th>\n",
       "      <th>emp_length</th>\n",
       "      <th>home_ownership</th>\n",
       "      <th>annual_inc</th>\n",
       "      <th>...</th>\n",
       "      <th>recoveries</th>\n",
       "      <th>collection_recovery_fee</th>\n",
       "      <th>last_pymnt_d</th>\n",
       "      <th>last_pymnt_amnt</th>\n",
       "      <th>last_credit_pull_d</th>\n",
       "      <th>pub_rec_bankruptcies</th>\n",
       "      <th>earliest_cr_line_month</th>\n",
       "      <th>earliest_cr_line_year</th>\n",
       "      <th>issue_d_month</th>\n",
       "      <th>issue_d_year</th>\n",
       "    </tr>\n",
       "  </thead>\n",
       "  <tbody>\n",
       "    <tr>\n",
       "      <th>0</th>\n",
       "      <td>2500</td>\n",
       "      <td>60</td>\n",
       "      <td>15.27%</td>\n",
       "      <td>59.83</td>\n",
       "      <td>C</td>\n",
       "      <td>C4</td>\n",
       "      <td>Ryder</td>\n",
       "      <td>0</td>\n",
       "      <td>RENT</td>\n",
       "      <td>30000.0</td>\n",
       "      <td>...</td>\n",
       "      <td>117.08</td>\n",
       "      <td>1.11</td>\n",
       "      <td>2013-04-01</td>\n",
       "      <td>119.66</td>\n",
       "      <td>2013-09-01</td>\n",
       "      <td>0.0</td>\n",
       "      <td>4</td>\n",
       "      <td>1999</td>\n",
       "      <td>12</td>\n",
       "      <td>2011</td>\n",
       "    </tr>\n",
       "    <tr>\n",
       "      <th>1</th>\n",
       "      <td>10000</td>\n",
       "      <td>36</td>\n",
       "      <td>13.49%</td>\n",
       "      <td>339.31</td>\n",
       "      <td>C</td>\n",
       "      <td>C1</td>\n",
       "      <td>AIR RESOURCES BOARD</td>\n",
       "      <td>10</td>\n",
       "      <td>RENT</td>\n",
       "      <td>49200.0</td>\n",
       "      <td>...</td>\n",
       "      <td>0.00</td>\n",
       "      <td>0.00</td>\n",
       "      <td>2015-01-01</td>\n",
       "      <td>357.48</td>\n",
       "      <td>2016-04-01</td>\n",
       "      <td>0.0</td>\n",
       "      <td>2</td>\n",
       "      <td>1996</td>\n",
       "      <td>12</td>\n",
       "      <td>2011</td>\n",
       "    </tr>\n",
       "    <tr>\n",
       "      <th>2</th>\n",
       "      <td>3000</td>\n",
       "      <td>60</td>\n",
       "      <td>12.69%</td>\n",
       "      <td>67.79</td>\n",
       "      <td>B</td>\n",
       "      <td>B5</td>\n",
       "      <td>University Medical Group</td>\n",
       "      <td>1</td>\n",
       "      <td>RENT</td>\n",
       "      <td>80000.0</td>\n",
       "      <td>...</td>\n",
       "      <td>0.00</td>\n",
       "      <td>0.00</td>\n",
       "      <td>2016-05-01</td>\n",
       "      <td>67.79</td>\n",
       "      <td>2016-05-01</td>\n",
       "      <td>0.0</td>\n",
       "      <td>1</td>\n",
       "      <td>1996</td>\n",
       "      <td>12</td>\n",
       "      <td>2011</td>\n",
       "    </tr>\n",
       "    <tr>\n",
       "      <th>3</th>\n",
       "      <td>5000</td>\n",
       "      <td>36</td>\n",
       "      <td>7.90%</td>\n",
       "      <td>156.46</td>\n",
       "      <td>A</td>\n",
       "      <td>A4</td>\n",
       "      <td>Veolia Transportaton</td>\n",
       "      <td>3</td>\n",
       "      <td>RENT</td>\n",
       "      <td>36000.0</td>\n",
       "      <td>...</td>\n",
       "      <td>0.00</td>\n",
       "      <td>0.00</td>\n",
       "      <td>2015-01-01</td>\n",
       "      <td>161.03</td>\n",
       "      <td>2016-01-01</td>\n",
       "      <td>0.0</td>\n",
       "      <td>11</td>\n",
       "      <td>2004</td>\n",
       "      <td>12</td>\n",
       "      <td>2011</td>\n",
       "    </tr>\n",
       "    <tr>\n",
       "      <th>4</th>\n",
       "      <td>7000</td>\n",
       "      <td>60</td>\n",
       "      <td>15.96%</td>\n",
       "      <td>170.08</td>\n",
       "      <td>C</td>\n",
       "      <td>C5</td>\n",
       "      <td>Southern Star Photography</td>\n",
       "      <td>8</td>\n",
       "      <td>RENT</td>\n",
       "      <td>47004.0</td>\n",
       "      <td>...</td>\n",
       "      <td>0.00</td>\n",
       "      <td>0.00</td>\n",
       "      <td>2016-05-01</td>\n",
       "      <td>1313.76</td>\n",
       "      <td>2016-05-01</td>\n",
       "      <td>0.0</td>\n",
       "      <td>7</td>\n",
       "      <td>2005</td>\n",
       "      <td>12</td>\n",
       "      <td>2011</td>\n",
       "    </tr>\n",
       "    <tr>\n",
       "      <th>...</th>\n",
       "      <td>...</td>\n",
       "      <td>...</td>\n",
       "      <td>...</td>\n",
       "      <td>...</td>\n",
       "      <td>...</td>\n",
       "      <td>...</td>\n",
       "      <td>...</td>\n",
       "      <td>...</td>\n",
       "      <td>...</td>\n",
       "      <td>...</td>\n",
       "      <td>...</td>\n",
       "      <td>...</td>\n",
       "      <td>...</td>\n",
       "      <td>...</td>\n",
       "      <td>...</td>\n",
       "      <td>...</td>\n",
       "      <td>...</td>\n",
       "      <td>...</td>\n",
       "      <td>...</td>\n",
       "      <td>...</td>\n",
       "      <td>...</td>\n",
       "    </tr>\n",
       "    <tr>\n",
       "      <th>36428</th>\n",
       "      <td>12375</td>\n",
       "      <td>36</td>\n",
       "      <td>10.91%</td>\n",
       "      <td>404.62</td>\n",
       "      <td>C</td>\n",
       "      <td>C3</td>\n",
       "      <td>Fullmoon Software</td>\n",
       "      <td>2</td>\n",
       "      <td>RENT</td>\n",
       "      <td>80000.0</td>\n",
       "      <td>...</td>\n",
       "      <td>0.00</td>\n",
       "      <td>0.00</td>\n",
       "      <td>2010-02-01</td>\n",
       "      <td>4259.11</td>\n",
       "      <td>2014-05-01</td>\n",
       "      <td>1.0</td>\n",
       "      <td>12</td>\n",
       "      <td>2000</td>\n",
       "      <td>12</td>\n",
       "      <td>2007</td>\n",
       "    </tr>\n",
       "    <tr>\n",
       "      <th>36429</th>\n",
       "      <td>4800</td>\n",
       "      <td>36</td>\n",
       "      <td>10.28%</td>\n",
       "      <td>155.52</td>\n",
       "      <td>C</td>\n",
       "      <td>C1</td>\n",
       "      <td>E.E. Wine Inc</td>\n",
       "      <td>1</td>\n",
       "      <td>RENT</td>\n",
       "      <td>35000.0</td>\n",
       "      <td>...</td>\n",
       "      <td>0.00</td>\n",
       "      <td>0.00</td>\n",
       "      <td>2008-08-01</td>\n",
       "      <td>3891.08</td>\n",
       "      <td>2008-08-01</td>\n",
       "      <td>1.0</td>\n",
       "      <td>3</td>\n",
       "      <td>2000</td>\n",
       "      <td>11</td>\n",
       "      <td>2007</td>\n",
       "    </tr>\n",
       "    <tr>\n",
       "      <th>36430</th>\n",
       "      <td>9000</td>\n",
       "      <td>36</td>\n",
       "      <td>12.49%</td>\n",
       "      <td>301.04</td>\n",
       "      <td>D</td>\n",
       "      <td>D3</td>\n",
       "      <td>Maximus</td>\n",
       "      <td>8</td>\n",
       "      <td>MORTGAGE</td>\n",
       "      <td>39000.0</td>\n",
       "      <td>...</td>\n",
       "      <td>1909.87</td>\n",
       "      <td>668.36</td>\n",
       "      <td>2008-05-01</td>\n",
       "      <td>301.05</td>\n",
       "      <td>2016-05-01</td>\n",
       "      <td>1.0</td>\n",
       "      <td>8</td>\n",
       "      <td>1997</td>\n",
       "      <td>10</td>\n",
       "      <td>2007</td>\n",
       "    </tr>\n",
       "    <tr>\n",
       "      <th>36431</th>\n",
       "      <td>15450</td>\n",
       "      <td>36</td>\n",
       "      <td>11.22%</td>\n",
       "      <td>507.46</td>\n",
       "      <td>C</td>\n",
       "      <td>C4</td>\n",
       "      <td>ARIN</td>\n",
       "      <td>2</td>\n",
       "      <td>MORTGAGE</td>\n",
       "      <td>40000.0</td>\n",
       "      <td>...</td>\n",
       "      <td>304.20</td>\n",
       "      <td>3.09</td>\n",
       "      <td>2009-10-01</td>\n",
       "      <td>1016.15</td>\n",
       "      <td>2010-03-01</td>\n",
       "      <td>1.0</td>\n",
       "      <td>11</td>\n",
       "      <td>1992</td>\n",
       "      <td>8</td>\n",
       "      <td>2007</td>\n",
       "    </tr>\n",
       "    <tr>\n",
       "      <th>36432</th>\n",
       "      <td>3000</td>\n",
       "      <td>36</td>\n",
       "      <td>11.86%</td>\n",
       "      <td>99.44</td>\n",
       "      <td>D</td>\n",
       "      <td>D1</td>\n",
       "      <td>Fairfield Manufacturing</td>\n",
       "      <td>2</td>\n",
       "      <td>MORTGAGE</td>\n",
       "      <td>36153.0</td>\n",
       "      <td>...</td>\n",
       "      <td>0.00</td>\n",
       "      <td>0.00</td>\n",
       "      <td>2010-08-01</td>\n",
       "      <td>101.51</td>\n",
       "      <td>2010-07-01</td>\n",
       "      <td>1.0</td>\n",
       "      <td>7</td>\n",
       "      <td>2000</td>\n",
       "      <td>8</td>\n",
       "      <td>2007</td>\n",
       "    </tr>\n",
       "  </tbody>\n",
       "</table>\n",
       "<p>36433 rows × 42 columns</p>\n",
       "</div>"
      ],
      "text/plain": [
       "       loan_amnt  term int_rate  installment grade sub_grade  \\\n",
       "0           2500    60   15.27%        59.83     C        C4   \n",
       "1          10000    36   13.49%       339.31     C        C1   \n",
       "2           3000    60   12.69%        67.79     B        B5   \n",
       "3           5000    36    7.90%       156.46     A        A4   \n",
       "4           7000    60   15.96%       170.08     C        C5   \n",
       "...          ...   ...      ...          ...   ...       ...   \n",
       "36428      12375    36   10.91%       404.62     C        C3   \n",
       "36429       4800    36   10.28%       155.52     C        C1   \n",
       "36430       9000    36   12.49%       301.04     D        D3   \n",
       "36431      15450    36   11.22%       507.46     C        C4   \n",
       "36432       3000    36   11.86%        99.44     D        D1   \n",
       "\n",
       "                       emp_title  emp_length home_ownership  annual_inc  ...  \\\n",
       "0                          Ryder           0           RENT     30000.0  ...   \n",
       "1            AIR RESOURCES BOARD          10           RENT     49200.0  ...   \n",
       "2       University Medical Group           1           RENT     80000.0  ...   \n",
       "3           Veolia Transportaton           3           RENT     36000.0  ...   \n",
       "4      Southern Star Photography           8           RENT     47004.0  ...   \n",
       "...                          ...         ...            ...         ...  ...   \n",
       "36428          Fullmoon Software           2           RENT     80000.0  ...   \n",
       "36429              E.E. Wine Inc           1           RENT     35000.0  ...   \n",
       "36430                    Maximus           8       MORTGAGE     39000.0  ...   \n",
       "36431                       ARIN           2       MORTGAGE     40000.0  ...   \n",
       "36432    Fairfield Manufacturing           2       MORTGAGE     36153.0  ...   \n",
       "\n",
       "      recoveries collection_recovery_fee last_pymnt_d last_pymnt_amnt  \\\n",
       "0         117.08                    1.11   2013-04-01          119.66   \n",
       "1           0.00                    0.00   2015-01-01          357.48   \n",
       "2           0.00                    0.00   2016-05-01           67.79   \n",
       "3           0.00                    0.00   2015-01-01          161.03   \n",
       "4           0.00                    0.00   2016-05-01         1313.76   \n",
       "...          ...                     ...          ...             ...   \n",
       "36428       0.00                    0.00   2010-02-01         4259.11   \n",
       "36429       0.00                    0.00   2008-08-01         3891.08   \n",
       "36430    1909.87                  668.36   2008-05-01          301.05   \n",
       "36431     304.20                    3.09   2009-10-01         1016.15   \n",
       "36432       0.00                    0.00   2010-08-01          101.51   \n",
       "\n",
       "      last_credit_pull_d pub_rec_bankruptcies  earliest_cr_line_month  \\\n",
       "0             2013-09-01                  0.0                       4   \n",
       "1             2016-04-01                  0.0                       2   \n",
       "2             2016-05-01                  0.0                       1   \n",
       "3             2016-01-01                  0.0                      11   \n",
       "4             2016-05-01                  0.0                       7   \n",
       "...                  ...                  ...                     ...   \n",
       "36428         2014-05-01                  1.0                      12   \n",
       "36429         2008-08-01                  1.0                       3   \n",
       "36430         2016-05-01                  1.0                       8   \n",
       "36431         2010-03-01                  1.0                      11   \n",
       "36432         2010-07-01                  1.0                       7   \n",
       "\n",
       "       earliest_cr_line_year issue_d_month  issue_d_year  \n",
       "0                       1999            12          2011  \n",
       "1                       1996            12          2011  \n",
       "2                       1996            12          2011  \n",
       "3                       2004            12          2011  \n",
       "4                       2005            12          2011  \n",
       "...                      ...           ...           ...  \n",
       "36428                   2000            12          2007  \n",
       "36429                   2000            11          2007  \n",
       "36430                   1997            10          2007  \n",
       "36431                   1992             8          2007  \n",
       "36432                   2000             8          2007  \n",
       "\n",
       "[36433 rows x 42 columns]"
      ]
     },
     "execution_count": 51,
     "metadata": {},
     "output_type": "execute_result"
    }
   ],
   "source": [
    "pd.read_csv('final_loan.csv', encoding='utf-8')"
   ]
  },
  {
   "cell_type": "code",
   "execution_count": 52,
   "metadata": {},
   "outputs": [],
   "source": [
    "final_loan = clean_loan[:]"
   ]
  },
  {
   "cell_type": "code",
   "execution_count": 53,
   "metadata": {},
   "outputs": [
    {
     "data": {
      "text/plain": [
       "(36433, 42)"
      ]
     },
     "execution_count": 53,
     "metadata": {},
     "output_type": "execute_result"
    }
   ],
   "source": [
    "final_loan.shape"
   ]
  },
  {
   "cell_type": "code",
   "execution_count": 54,
   "metadata": {},
   "outputs": [
    {
     "data": {
      "text/plain": [
       "Fully Paid     30424\n",
       "Charged Off     4943\n",
       "Current         1066\n",
       "Name: loan_status, dtype: int64"
      ]
     },
     "execution_count": 54,
     "metadata": {},
     "output_type": "execute_result"
    }
   ],
   "source": [
    "final_loan.loan_status.value_counts()"
   ]
  },
  {
   "cell_type": "markdown",
   "metadata": {},
   "source": [
    "now, we need to understand the differences in the features between loans that have been fully paid or charged off.So we only keep the loans with status \"Fully Paid\" or \"Charged Off.\""
   ]
  },
  {
   "cell_type": "code",
   "execution_count": 55,
   "metadata": {},
   "outputs": [
    {
     "data": {
      "text/plain": [
       "(35367, 42)"
      ]
     },
     "execution_count": 55,
     "metadata": {},
     "output_type": "execute_result"
    }
   ],
   "source": [
    "final_loan = final_loan[final_loan['loan_status'].isin(['Fully Paid','Charged Off'])]\n",
    "final_loan.shape"
   ]
  },
  {
   "cell_type": "markdown",
   "metadata": {},
   "source": [
    "# Univariate Analysis"
   ]
  },
  {
   "cell_type": "code",
   "execution_count": 56,
   "metadata": {},
   "outputs": [],
   "source": [
    "## Setting up bar plots\n",
    "\n",
    "def showLabels(ax, d=None):\n",
    "    plt.margins(0.2, 0.2)\n",
    "    rects = ax.patches\n",
    "    i = 0\n",
    "    locs, labels = plt.xticks() \n",
    "    counts = {}\n",
    "    if not d is None:\n",
    "        for key, value in d.items():\n",
    "            counts[str(key)] = value\n",
    "\n",
    "    # For each bar: Place a label\n",
    "    for rect in rects:\n",
    "        # Get X and Y placement of label from rect.\n",
    "        y_value = rect.get_height()\n",
    "        x_value = rect.get_x() + rect.get_width() / 2\n",
    "\n",
    "        # Number of points between bar and label. Change to your liking.\n",
    "        space = 5\n",
    "        # Vertical alignment for positive values\n",
    "        va = 'bottom'\n",
    "\n",
    "        # If value of bar is negative: Place label below bar\n",
    "        if y_value < 0:\n",
    "            # Invert space to place label below\n",
    "            space *= -1\n",
    "            # Vertically align label at top\n",
    "            va = 'top'\n",
    "\n",
    "        # Use Y value as label and format number with one decimal place\n",
    "        if d is None:\n",
    "            label = \"{:.1f}%\".format(y_value)\n",
    "        else:\n",
    "            try:\n",
    "                label = \"{:.1f}%\".format(y_value) + \"\\nof \" + str(counts[str(labels[i].get_text())])\n",
    "            except:\n",
    "                label = \"{:.1f}%\".format(y_value)\n",
    "        \n",
    "        i = i+1\n",
    "\n",
    "        # Create annotation\n",
    "        plt.annotate(\n",
    "            label,                      # Use `label` as label\n",
    "            (x_value, y_value),         # Place label at end of the bar\n",
    "            xytext=(0, space),          # Vertically shift label by `space`\n",
    "            textcoords=\"offset points\", # Interpret `xytext` as offset in points\n",
    "            ha='center',                # Horizontally center label\n",
    "            va=va)                      # Vertically align label differently for\n",
    "                                        # positive and negative values."
   ]
  },
  {
   "cell_type": "code",
   "execution_count": 57,
   "metadata": {},
   "outputs": [],
   "source": [
    "# The plots are in percentages \n",
    "def plotLoanStatus(dataframe, by, loanstatus='Charged Off'):\n",
    "    grp = dataframe.groupby(['loan_status',by])[by].count()\n",
    "    cnt = dataframe.groupby(by)[by].count()\n",
    "    percentages = grp.unstack() * 100 / cnt.T\n",
    "    ax = percentages.loc[loanstatus].plot.bar(color=sns.color_palette('husl', 16))\n",
    "    ax.set_ylabel('% of loans ' + loanstatus)\n",
    "    showLabels(ax, grp[loanstatus].to_dict())\n",
    "    plt.margins(0.2, 0.2)\n",
    "    plt.tight_layout()\n",
    "    return ax"
   ]
  },
  {
   "cell_type": "code",
   "execution_count": 58,
   "metadata": {},
   "outputs": [],
   "source": [
    "# This method prints two plots side by side \n",
    "# Left one is percentage of a categorical variable in the entire dataset \n",
    "# Right one is percentage for Charged Off loans \n",
    "# Significant changes in percentage from left to right can indicate a value of interest\n",
    "def plot_percentages(dataframe, by, sortbyindex=False):\n",
    "    plt.subplot(1, 2, 1)\n",
    "    values = (final_loan[by].value_counts(normalize=True)*100)\n",
    "    if sortbyindex:\n",
    "        values = values.sort_index()\n",
    "    ax = values.plot.bar(color=sns.color_palette('husl', 16))\n",
    "    ax.set_ylabel('% in dataset', fontsize=16)\n",
    "    ax.set_xlabel(by, fontsize=12)\n",
    "    showLabels(ax)\n",
    "    plt.subplot(1, 2, 2)\n",
    "    values = (final_loan.loc[final_loan['loan_status']=='Charged Off'][by].value_counts(normalize=True)*100)\n",
    "    if sortbyindex:\n",
    "        values = values.sort_index()\n",
    "    ax = values.plot.bar(color=sns.color_palette('husl', 16))\n",
    "    ax.set_ylabel('% in Charged Off loans', fontsize=16)\n",
    "    showLabels(ax)"
   ]
  },
  {
   "cell_type": "code",
   "execution_count": 59,
   "metadata": {},
   "outputs": [
    {
     "data": {
      "text/plain": [
       "A    25.843300\n",
       "B    30.305087\n",
       "C    20.304238\n",
       "D    13.184607\n",
       "E     7.015014\n",
       "F     2.550400\n",
       "G     0.797353\n",
       "Name: grade, dtype: float64"
      ]
     },
     "execution_count": 59,
     "metadata": {},
     "output_type": "execute_result"
    }
   ],
   "source": [
    "(final_loan['grade'].value_counts(normalize=True)*100).sort_index()"
   ]
  },
  {
   "cell_type": "markdown",
   "metadata": {},
   "source": [
    "# The key column - loan_status"
   ]
  },
  {
   "cell_type": "code",
   "execution_count": 81,
   "metadata": {},
   "outputs": [
    {
     "data": {
      "image/png": "[encoded data removed]",
      "text/plain": [
       "<Figure size 360x504 with 1 Axes>"
      ]
     },
     "metadata": {},
     "output_type": "display_data"
    }
   ],
   "source": [
    "plt.figure(figsize=(5,7))\n",
    "ax = final_loan.groupby('loan_status').loan_amnt.count().plot.bar()\n",
    "showLabels(ax)\n",
    "plt.show()"
   ]
  },
  {
   "cell_type": "code",
   "execution_count": 82,
   "metadata": {},
   "outputs": [
    {
     "name": "stdout",
     "output_type": "stream",
     "text": [
      "13.98\n"
     ]
    }
   ],
   "source": [
    "print(\"%.2f\" % (final_loan.loc[final_loan['loan_status'] == 'Charged Off'].loan_status.count() * 100/len(final_loan)))"
   ]
  },
  {
   "cell_type": "markdown",
   "metadata": {},
   "source": [
    "Approximately 14% of loans in the dataset are defaulted.\n",
    "Any variable that increases percentage of default to higher than 16.5% should be considered as a business risk. (16.5 is 18% higher than 13.97)"
   ]
  },
  {
   "cell_type": "code",
   "execution_count": 83,
   "metadata": {},
   "outputs": [
    {
     "data": {
      "image/png": "[encoded data removed]",
      "text/plain": [
       "<Figure size 360x504 with 1 Axes>"
      ]
     },
     "metadata": {},
     "output_type": "display_data"
    }
   ],
   "source": [
    "plt.figure(figsize=(5,7))\n",
    "ax = (final_loan.groupby('loan_status').total_pymnt.sum() * 100 / final_loan.groupby('loan_status').loan_amnt.sum()).plot.bar()\n",
    "ax.set_ylabel('% loan recovered', fontsize=16)\n",
    "plt.margins(0.2, 0.2)\n",
    "showLabels(ax)"
   ]
  },
  {
   "cell_type": "markdown",
   "metadata": {},
   "source": [
    "Lending Club only recovers 57% of the loan amount when loans are defaulted. and on fully paid up loans, the company makes 17% profit."
   ]
  },
  {
   "cell_type": "markdown",
   "metadata": {},
   "source": [
    "Now we will see the factors for defaulters"
   ]
  },
  {
   "cell_type": "markdown",
   "metadata": {},
   "source": [
    "---\n",
    "#### Variable: term\n",
    "Data_Dictionary: The number of payments on the loan. Values are in months and can be either 36 or 60."
   ]
  },
  {
   "cell_type": "code",
   "execution_count": 84,
   "metadata": {},
   "outputs": [
    {
     "data": {
      "image/png": "[encoded data removed]",
      "text/plain": [
       "<Figure size 720x360 with 2 Axes>"
      ]
     },
     "metadata": {},
     "output_type": "display_data"
    }
   ],
   "source": [
    "plt.figure(figsize=(10,5))\n",
    "plot_percentages(final_loan, 'term')"
   ]
  },
  {
   "cell_type": "markdown",
   "metadata": {},
   "source": [
    "Observation:\n",
    "\n",
    "1.Around 75% of the total loans are given for duration of 3 years. while just 25% of the loans are those given for 5 years.\n",
    "\n",
    "2.Among Charged Off loans, percentage of term 60 months rises to 45%. The higher term loans have a higher chance of default."
   ]
  },
  {
   "cell_type": "markdown",
   "metadata": {},
   "source": [
    "---\n",
    "#### Variable: purpose\n",
    "Data_Dictionary: A category provided by the borrower for the loan request."
   ]
  },
  {
   "cell_type": "code",
   "execution_count": 65,
   "metadata": {},
   "outputs": [
    {
     "data": {
      "text/plain": [
       "<matplotlib.axes._subplots.AxesSubplot at 0x170032b7c08>"
      ]
     },
     "execution_count": 65,
     "metadata": {},
     "output_type": "execute_result"
    },
    {
     "data": {
      "image/png": "[encoded data removed]",
      "text/plain": [
       "<Figure size 720x360 with 1 Axes>"
      ]
     },
     "metadata": {},
     "output_type": "display_data"
    }
   ],
   "source": [
    "plt.figure(figsize=(10, 5))\n",
    "plotLoanStatus(final_loan, 'purpose')"
   ]
  },
  {
   "cell_type": "markdown",
   "metadata": {},
   "source": [
    "**Observation:**\n",
    "-  <mark>26% of loans for small business are Charged Off. Making them the most risky purpose.</mark> \n",
    "- Approximately ~49% of the loans are issued for the purpose of dept consolidation."
   ]
  },
  {
   "cell_type": "markdown",
   "metadata": {},
   "source": [
    "---\n",
    "#### Variable: pub_rec_bankruptcy\n",
    "Data_Dictionary: Number of public record bankruptcies"
   ]
  },
  {
   "cell_type": "code",
   "execution_count": 66,
   "metadata": {},
   "outputs": [
    {
     "data": {
      "text/plain": [
       "<matplotlib.axes._subplots.AxesSubplot at 0x17003389508>"
      ]
     },
     "execution_count": 66,
     "metadata": {},
     "output_type": "execute_result"
    },
    {
     "data": {
      "image/png": "[encoded data removed]",
      "text/plain": [
       "<Figure size 576x360 with 1 Axes>"
      ]
     },
     "metadata": {},
     "output_type": "display_data"
    }
   ],
   "source": [
    "plt.figure(figsize=(8,5))\n",
    "plotLoanStatus(final_loan, 'pub_rec_bankruptcies')"
   ]
  },
  {
   "cell_type": "markdown",
   "metadata": {},
   "source": [
    "**Observation:**\n",
    "-  <mark>The percentage of Charged Off loans is markedly higher when the borrower has a prior record of bankruptcy.</mark> "
   ]
  },
  {
   "cell_type": "markdown",
   "metadata": {},
   "source": [
    "---\n",
    "#### Variable - verification_status\n",
    "Data_Dictionary: Indicates if income was verified by LC, not verified, or if the income source was verified"
   ]
  },
  {
   "cell_type": "code",
   "execution_count": 67,
   "metadata": {},
   "outputs": [
    {
     "data": {
      "text/plain": [
       "Not Verified       14840\n",
       "Verified           11363\n",
       "Source Verified     9164\n",
       "Name: verification_status, dtype: int64"
      ]
     },
     "execution_count": 67,
     "metadata": {},
     "output_type": "execute_result"
    }
   ],
   "source": [
    "final_loan.verification_status.value_counts()"
   ]
  },
  {
   "cell_type": "code",
   "execution_count": 68,
   "metadata": {},
   "outputs": [
    {
     "data": {
      "image/png": "[encoded data removed]",
      "text/plain": [
       "<Figure size 1440x360 with 2 Axes>"
      ]
     },
     "metadata": {},
     "output_type": "display_data"
    }
   ],
   "source": [
    "plt.figure(figsize=(20,5))\n",
    "plot_percentages(final_loan, 'verification_status', True)"
   ]
  },
  {
   "cell_type": "markdown",
   "metadata": {},
   "source": [
    "**Observation:**\n",
    "-  Overall, it appears that there are more 'Non Verified' loans than the 'Source Verified' and 'Verified' loans. LC should take steps to verify these loans income so as to reduce the Charge Off percentage.\n",
    "-  <mark>Verified loans show more charged Off percentage as compared to Not verified loans.</mark> This is unexpected and will be investigated later in bivariate analysis "
   ]
  },
  {
   "cell_type": "markdown",
   "metadata": {},
   "source": [
    "---\n",
    "#### Variable: grade and sub_grade\n",
    "Data_Dictionary: LC assigned loan grade and subgrade."
   ]
  },
  {
   "cell_type": "code",
   "execution_count": 85,
   "metadata": {},
   "outputs": [
    {
     "data": {
      "text/plain": [
       "B    10718\n",
       "A     9140\n",
       "C     7181\n",
       "D     4663\n",
       "E     2481\n",
       "F      902\n",
       "G      282\n",
       "Name: grade, dtype: int64"
      ]
     },
     "execution_count": 85,
     "metadata": {},
     "output_type": "execute_result"
    }
   ],
   "source": [
    "final_loan.grade.value_counts()"
   ]
  },
  {
   "cell_type": "markdown",
   "metadata": {},
   "source": [
    "Let's find the relative frequencies of the unique sub_grade."
   ]
  },
  {
   "cell_type": "code",
   "execution_count": 87,
   "metadata": {},
   "outputs": [
    {
     "data": {
      "text/plain": [
       "A4    0.075268\n",
       "B3    0.073204\n",
       "A5    0.070320\n",
       "B5    0.069104\n",
       "B4    0.063534\n",
       "Name: sub_grade, dtype: float64"
      ]
     },
     "execution_count": 87,
     "metadata": {},
     "output_type": "execute_result"
    }
   ],
   "source": [
    "final_loan.sub_grade.value_counts(normalize=True).head()"
   ]
  },
  {
   "cell_type": "code",
   "execution_count": 89,
   "metadata": {},
   "outputs": [
    {
     "data": {
      "image/png": "[encoded data removed]",
      "text/plain": [
       "<Figure size 720x360 with 1 Axes>"
      ]
     },
     "metadata": {},
     "output_type": "display_data"
    }
   ],
   "source": [
    "plt.figure(figsize=(10,5))\n",
    "sns.countplot(final_loan['sub_grade'], order=sorted(final_loan.sub_grade.unique()))\n",
    "plt.show()"
   ]
  },
  {
   "cell_type": "code",
   "execution_count": 91,
   "metadata": {},
   "outputs": [
    {
     "data": {
      "image/png": "[encoded data removed]",
      "text/plain": [
       "<Figure size 1080x360 with 2 Axes>"
      ]
     },
     "metadata": {},
     "output_type": "display_data"
    }
   ],
   "source": [
    "plt.figure(figsize=(15,5))\n",
    "plot_percentages(final_loan, 'grade', True)"
   ]
  },
  {
   "cell_type": "markdown",
   "metadata": {},
   "source": [
    "**Observation:**\n",
    "-  Grade A and B loans are safe. The percentages in full dataset are much higher than percentages in Charged Off loans. \n",
    "- Grade D, E, F, G loans are less safe.\n",
    "- Lending Clubs grading system is working well. "
   ]
  },
  {
   "cell_type": "markdown",
   "metadata": {},
   "source": [
    "---\n",
    "#### Variable - inq_last_6mths\n",
    "Data_Dictionary: The number of inquiries in past 6 months (excluding auto and mortgage inquiries)"
   ]
  },
  {
   "cell_type": "code",
   "execution_count": 94,
   "metadata": {},
   "outputs": [
    {
     "data": {
      "text/plain": [
       "0    0.485848\n",
       "1    0.276359\n",
       "2    0.147256\n",
       "3    0.076427\n",
       "4    0.007917\n",
       "5    0.003478\n",
       "6    0.001527\n",
       "7    0.000877\n",
       "8    0.000311\n",
       "Name: inq_last_6mths, dtype: float64"
      ]
     },
     "execution_count": 94,
     "metadata": {},
     "output_type": "execute_result"
    }
   ],
   "source": [
    "final_loan.inq_last_6mths.value_counts(normalize=True)"
   ]
  },
  {
   "cell_type": "code",
   "execution_count": 96,
   "metadata": {},
   "outputs": [
    {
     "data": {
      "image/png": "[encoded data removed]",
      "text/plain": [
       "<Figure size 720x720 with 2 Axes>"
      ]
     },
     "metadata": {},
     "output_type": "display_data"
    }
   ],
   "source": [
    "plt.figure(figsize=(10,10))\n",
    "plt.subplot(2, 1, 1)\n",
    "c=sns.countplot(final_loan['inq_last_6mths'], order=sorted(final_loan.delinq_2yrs.unique()))\n",
    "c.set_yscale('log')\n",
    "\n",
    "plt.subplot(2, 1, 2)\n",
    "plotLoanStatus(final_loan, 'inq_last_6mths')\n",
    "plt.show()"
   ]
  },
  {
   "cell_type": "markdown",
   "metadata": {},
   "source": [
    "**Observation:**\n",
    "-  48.5% of the borrowers do not make any inquiry\n",
    "-  Those with more than 2 inquiries default at higher rates. \n",
    "- This is probably correlated to having more loans and can be ignored. The revolving line utilization will cover this."
   ]
  },
  {
   "cell_type": "markdown",
   "metadata": {},
   "source": [
    "### Bivariate Analysis"
   ]
  },
  {
   "cell_type": "markdown",
   "metadata": {},
   "source": [
    "---\n",
    "#### loan_amnt vs grade"
   ]
  },
  {
   "cell_type": "code",
   "execution_count": 76,
   "metadata": {
    "scrolled": true
   },
   "outputs": [
    {
     "data": {
      "image/png": "[encoded data removed]",
      "text/plain": [
       "<Figure size 432x288 with 1 Axes>"
      ]
     },
     "metadata": {},
     "output_type": "display_data"
    }
   ],
   "source": [
    "final_loan.boxplot(column='loan_amnt', by='grade')\n",
    "plt.show()"
   ]
  },
  {
   "cell_type": "markdown",
   "metadata": {},
   "source": [
    " **observation**\n",
    " -  Larger loans generally appear to be given a lower grade, with the median loan amount for a grade G loan being almost 10000 higher than that of a grade A, B, or C loan."
   ]
  },
  {
   "cell_type": "markdown",
   "metadata": {},
   "source": [
    "#### Loan amount vs Grade vs Term"
   ]
  },
  {
   "cell_type": "code",
   "execution_count": 78,
   "metadata": {},
   "outputs": [
    {
     "data": {
      "image/png": "[encoded data removed]",
      "text/plain": [
       "<Figure size 432x288 with 1 Axes>"
      ]
     },
     "metadata": {},
     "output_type": "display_data"
    }
   ],
   "source": [
    "sns.barplot(x='grade', y='loan_amnt', hue=\"term\", data=final_loan, estimator=np.mean)\n",
    "plt.show()"
   ]
  },
  {
   "cell_type": "markdown",
   "metadata": {},
   "source": [
    "**Observation:**\n",
    "-  Our assumption made during univariate analysis is more evident with this plot. Higher loan amount are associated with lower grade for longer terms."
   ]
  },
  {
   "cell_type": "markdown",
   "metadata": {},
   "source": [
    "#### Loan amount Vs term Vs Loan Status\n"
   ]
  },
  {
   "cell_type": "code",
   "execution_count": 79,
   "metadata": {},
   "outputs": [
    {
     "data": {
      "image/png": "[encoded data removed]",
      "text/plain": [
       "<Figure size 432x288 with 1 Axes>"
      ]
     },
     "metadata": {},
     "output_type": "display_data"
    }
   ],
   "source": [
    "sns.barplot(x='term', y='loan_amnt', hue=\"loan_status\", data=clean_loan, estimator=np.mean)\n",
    "plt.show()"
   ]
  },
  {
   "cell_type": "markdown",
   "metadata": {},
   "source": [
    "**Observation:**\n",
    "-  Our assumption made during univariate analysis is more evident with this plot. Higher loan amount are associated with longer terms and see higher Charge Offs."
   ]
  },
  {
   "cell_type": "markdown",
   "metadata": {},
   "source": [
    "---\n",
    "####  loan_amnt and annual_inc"
   ]
  },
  {
   "cell_type": "code",
   "execution_count": 97,
   "metadata": {},
   "outputs": [
    {
     "data": {
      "image/png": "[encoded data removed]",
      "text/plain": [
       "<Figure size 432x432 with 3 Axes>"
      ]
     },
     "metadata": {},
     "output_type": "display_data"
    }
   ],
   "source": [
    "sns.jointplot('annual_inc', 'loan_amnt', final_loan.loc[final_loan['annual_inc']<260000])\n",
    "plt.show()"
   ]
  },
  {
   "cell_type": "markdown",
   "metadata": {},
   "source": [
    "**Observation:**\n",
    "-  There are people with average income lower than 50000 taking loans of 25000 or higher. These would be risky loans. "
   ]
  }
 ],
 "metadata": {
  "kernelspec": {
   "display_name": "Python 3",
   "language": "python",
   "name": "python3"
  },
  "language_info": {
   "codemirror_mode": {
    "name": "ipython",
    "version": 3
   },
   "file_extension": ".py",
   "mimetype": "text/x-python",
   "name": "python",
   "nbconvert_exporter": "python",
   "pygments_lexer": "ipython3",
   "version": "3.7.6"
  }
 },
 "nbformat": 4,
 "nbformat_minor": 4
}
